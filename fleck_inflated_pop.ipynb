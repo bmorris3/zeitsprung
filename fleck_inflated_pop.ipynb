{
 "cells": [
  {
   "cell_type": "code",
   "execution_count": 4,
   "metadata": {},
   "outputs": [],
   "source": [
    "%matplotlib inline\n",
    "import matplotlib.pyplot as plt\n",
    "import numpy as np\n",
    "import astropy.units as u\n",
    "from astropy.time import Time\n",
    "from fleck import generate_spots, Stars\n",
    "from scipy.stats import ks_2samp, anderson_ksamp"
   ]
  },
  {
   "cell_type": "code",
   "execution_count": 222,
   "metadata": {},
   "outputs": [],
   "source": [
    "amps_fast = np.loadtxt('data/amps_fast.txt')"
   ]
  },
  {
   "cell_type": "code",
   "execution_count": 223,
   "metadata": {},
   "outputs": [
    {
     "data": {
      "text/plain": [
       "Text(0, 0.5, 'Probability Density')"
      ]
     },
     "execution_count": 223,
     "metadata": {},
     "output_type": "execute_result"
    },
    {
     "data": {
      "image/png": "[encoded data removed]",
      "text/plain": [
       "<Figure size 432x288 with 1 Axes>"
      ]
     },
     "metadata": {},
     "output_type": "display_data"
    }
   ],
   "source": [
    "def norm_hist(x):\n",
    "    n_bins = 10\n",
    "    bin_range = [0, 5.0]\n",
    "    freq, bin_edges = np.histogram(x, bins=n_bins, range=bin_range)\n",
    "    bin_centers = 0.5*(bin_edges[:-1] + bin_edges[1:])\n",
    "    dx = bin_edges[1] - bin_edges[0]\n",
    "    norm = np.sum(freq * dx)\n",
    "    normalized_freq = freq/norm\n",
    "    normalized_freq_err = np.max([np.sqrt(freq)/norm, np.ones_like(freq)/norm], axis=0)\n",
    "    return bin_centers, normalized_freq, normalized_freq_err\n",
    "\n",
    "bin_centers, normalized_freq, normalized_freq_err = norm_hist(amps_fast)\n",
    "plt.errorbar(bin_centers, normalized_freq, normalized_freq_err, \n",
    "             ls='steps-mid', ecolor='gray')\n",
    "plt.ylim([0, 1])\n",
    "plt.xlabel('Smoothed Amp (%)')\n",
    "plt.ylabel('Probability Density')\n",
    "# freq, bin_edges = np.histogram(amps_fast, bins=n_bins, range=bin_range, density=True)\n",
    "# plt.plot(bin_centers, freq, ls='steps-mid--', color='r', zorder=100)"
   ]
  },
  {
   "cell_type": "code",
   "execution_count": 224,
   "metadata": {},
   "outputs": [],
   "source": [
    "ld = [0.5079, 0.2239]\n",
    "stars = Stars(spot_contrast=0.7, n_phases=30, u_ld=ld)"
   ]
  },
  {
   "cell_type": "code",
   "execution_count": 225,
   "metadata": {},
   "outputs": [],
   "source": [
    "n_inclinations = 5000\n",
    "spot_radius = 0.2\n",
    "n_spots = 3"
   ]
  },
  {
   "cell_type": "code",
   "execution_count": 226,
   "metadata": {},
   "outputs": [],
   "source": [
    "def chisquared(spot_radius, min_latitude):\n",
    "    lons, lats, rads, incs = generate_spots(min_latitude=min_latitude, max_latitude=90, n_spots=n_spots,\n",
    "                                            spot_radius=spot_radius, n_inclinations=n_inclinations)\n",
    "    lcs = stars.light_curve(lons, lats, rads, incs)\n",
    "    smoothed_amps = 100 * lcs.ptp(axis=0)\n",
    "    bin_centers, norm_freq, norm_freq_err = norm_hist(smoothed_amps)\n",
    "    anderson_stat = anderson_ksamp([smoothed_amps, amps_fast]).statistic\n",
    "    chi2 = np.sum((norm_freq - normalized_freq)**2 / normalized_freq_err**2)\n",
    "    return chi2, anderson_stat, smoothed_amps\n",
    "\n",
    "radii_fast = np.arange(0.1, 0.45, 0.01)\n",
    "lats_fast = np.arange(20, 85, 5)\n",
    "\n",
    "chi2s = []\n",
    "anderson_stats = []\n",
    "for spot_radii in radii_fast:\n",
    "    tmp1 = []\n",
    "    tmp2 = []\n",
    "    for min_lat in lats_fast: \n",
    "        c2, anderson_stat, smoothed_amps = chisquared(spot_radii, min_lat)\n",
    "        tmp1.append(c2)\n",
    "        tmp2.append(anderson_stat)\n",
    "    chi2s.append(tmp1)\n",
    "    anderson_stats.append(tmp2)"
   ]
  },
  {
   "cell_type": "code",
   "execution_count": 227,
   "metadata": {},
   "outputs": [
    {
     "data": {
      "text/plain": [
       "455"
      ]
     },
     "execution_count": 227,
     "metadata": {},
     "output_type": "execute_result"
    }
   ],
   "source": [
    "chi2s = np.array(chi2s)\n",
    "\n",
    "chi2s.size"
   ]
  },
  {
   "cell_type": "code",
   "execution_count": 228,
   "metadata": {},
   "outputs": [],
   "source": [
    "# plt.figure(figsize=(4, 3))\n",
    "# dlats = lats_fast[1] - lats_fast[0]\n",
    "# drads = radii_fast[1] - radii_fast[0]\n",
    "\n",
    "# x, y = lats_fast, radii_fast[chi2s.argmin(axis=0)]#, chi2s.min(axis=0)\n",
    "\n",
    "# cax = plt.imshow(np.log10(chi2s), origin='lower', aspect=200, #, vmin=5, vmax=10,\n",
    "#                  extent=(lats_fast.min() - dlats/2, lats_fast.max() + dlats/2, \n",
    "#                          radii_fast.min() - drads/2, radii_fast.max() + drads/2))\n",
    "# # plt.scatter(x, y, color='w', marker='.')\n",
    "# cbar = plt.colorbar(cax)\n",
    "# fs = 12\n",
    "# cbar.set_label('$\\log\\, \\chi^2$', fontsize=fs)\n",
    "# plt.xlabel('Minimum latitude [degree]', fontsize=fs)\n",
    "# plt.ylabel('$\\\\rm R_{spot}/R_{star}$', fontsize=fs)\n",
    "# plt.savefig('plots/spot_minlat.pdf', bbox_inches='tight')"
   ]
  },
  {
   "cell_type": "code",
   "execution_count": 229,
   "metadata": {},
   "outputs": [
    {
     "data": {
      "text/plain": [
       "-0.62980784960151859"
      ]
     },
     "execution_count": 229,
     "metadata": {},
     "output_type": "execute_result"
    }
   ],
   "source": [
    "np.min(anderson_stats)"
   ]
  },
  {
   "cell_type": "code",
   "execution_count": 230,
   "metadata": {},
   "outputs": [
    {
     "data": {
      "image/png": "[encoded data removed]",
      "text/plain": [
       "<Figure size 288x216 with 2 Axes>"
      ]
     },
     "metadata": {},
     "output_type": "display_data"
    }
   ],
   "source": [
    "plt.figure(figsize=(4, 3))\n",
    "dlats = lats_fast[1] - lats_fast[0]\n",
    "drads = radii_fast[1] - radii_fast[0]\n",
    "\n",
    "cax = plt.imshow(np.array(anderson_stats), origin='lower', aspect=200, vmin=-1, vmax=5,\n",
    "                 extent=(lats_fast.min() - dlats/2, lats_fast.max() + dlats/2, \n",
    "                         radii_fast.min() - drads/2, radii_fast.max() + drads/2), \n",
    "                 cmap=plt.cm.gray)\n",
    "# plt.scatter(x, y, color='w', marker='.')\n",
    "cbar = plt.colorbar(cax, extend='both')\n",
    "fs = 12\n",
    "cbar.set_label('Anderson-Darling Stat', fontsize=fs)\n",
    "plt.xlabel('Minimum latitude [degree]', fontsize=fs)\n",
    "plt.ylabel('$\\\\rm R_{spot}/R_{star}$', fontsize=fs)\n",
    "plt.title(\"EPIC 210490365\")\n",
    "\n",
    "plt.savefig('plots/spot_minlat.pdf', bbox_inches='tight')"
   ]
  },
  {
   "cell_type": "code",
   "execution_count": 237,
   "metadata": {},
   "outputs": [
    {
     "data": {
      "text/plain": [
       "<matplotlib.lines.Line2D at 0x1170cd160>"
      ]
     },
     "execution_count": 237,
     "metadata": {},
     "output_type": "execute_result"
    },
    {
     "data": {
      "image/png": "[encoded data removed]",
      "text/plain": [
       "<Figure size 432x288 with 1 Axes>"
      ]
     },
     "metadata": {},
     "output_type": "display_data"
    }
   ],
   "source": [
    "plt.scatter(x, y)\n",
    "plt.axhline(0.25)"
   ]
  },
  {
   "cell_type": "code",
   "execution_count": 232,
   "metadata": {},
   "outputs": [],
   "source": [
    "# radii_fast = np.arange(0.24, 0.29, 0.001)\n",
    "# min_lat = 70\n",
    "# chi2s = []\n",
    "# for spot_radii in radii_fast:\n",
    "#     chi2s.append(chisquared(spot_radii, min_lat)[0])"
   ]
  },
  {
   "cell_type": "code",
   "execution_count": 233,
   "metadata": {},
   "outputs": [],
   "source": [
    "# plt.figure(figsize=(4, 3))\n",
    "# plt.plot(radii_fast, chi2s, '.')\n",
    "# poly = np.polyfit(radii_fast, chi2s, 2)\n",
    "\n",
    "# polyval = np.polyval(poly, radii_fast)\n",
    "\n",
    "# crit_chi2 = np.min(polyval) + 1 \n",
    "\n",
    "# poly_minus_crit = polyval - crit_chi2\n",
    "# inds = np.argwhere(np.sign(poly_minus_crit[1:]) != np.sign(poly_minus_crit[:-1]))\n",
    "\n",
    "# plt.plot(radii_fast, polyval)\n",
    "\n",
    "# plt.fill_between(radii_fast[inds[0]:inds[1]+1], polyval[inds[0]:inds[1]+1], crit_chi2, \n",
    "#                  color='C1', alpha=0.1)\n",
    "\n",
    "# best_radius = np.mean(radii_fast[inds])\n",
    "# radius_err = (radii_fast[inds][1] - radii_fast[inds][0]) / 2\n",
    "# # plt.plot(radii_fast[inds], polyval[inds], '.')\n",
    "# plt.title('Radius: ${0:.2f} \\pm {1:.2f}$'.format(best_radius, radius_err[0]))\n",
    "# # plt.axhline(crit_chi2, ls='--', color='gray')\n",
    "# plt.xlabel('Spot Radius')\n",
    "# plt.ylabel('$\\chi^2$')\n",
    "# for s in 'right top'.split(): \n",
    "#     plt.gca().spines[s].set_visible(False)\n",
    "# plt.savefig('plots/chi2.pdf')"
   ]
  },
  {
   "cell_type": "code",
   "execution_count": 238,
   "metadata": {},
   "outputs": [],
   "source": [
    "best_radius = 0.25\n",
    "min_lat = 70\n",
    "_, ad, ptp = chisquared(best_radius, min_lat)\n",
    "\n",
    "_, normalized_freq_best, _ = norm_hist(ptp)"
   ]
  },
  {
   "cell_type": "code",
   "execution_count": 239,
   "metadata": {},
   "outputs": [
    {
     "data": {
      "image/png": "[encoded data removed]",
      "text/plain": [
       "<Figure size 288x216 with 1 Axes>"
      ]
     },
     "metadata": {},
     "output_type": "display_data"
    }
   ],
   "source": [
    "\n",
    "plt.figure(figsize=(4, 3))\n",
    "plt.errorbar(bin_centers, normalized_freq, normalized_freq_err, \n",
    "             ls='steps-mid', ecolor='gray', color='k', label='Observed')\n",
    "\n",
    "bin_centers, normalized_freq_best, normalized_freq_err_best = norm_hist(ptp)\n",
    "\n",
    "plt.plot(bin_centers, normalized_freq_best, ls='steps-mid', color='r', label='Simulated')\n",
    "\n",
    "# plt.plot(bin_centers, normalized_freq_lower, ls='steps-mid', color='C1')\n",
    "# plt.plot(bin_centers, normalized_freq_upper, ls='steps-mid', color='C2')\n",
    "plt.legend().get_frame().set_alpha(0)\n",
    "plt.ylim([0, 1])\n",
    "plt.title('$\\\\rm R_{{spot}}/R_s$: ${0:.2f} \\pm {1:.2f}$'.format(best_radius, radius_err[0]))\n",
    "plt.xlabel('Smoothed Amp (%)')\n",
    "plt.ylabel('Probability Density')\n",
    "plt.title(\"EPIC 210490365\")\n",
    "\n",
    "for s in ['right', 'top']: \n",
    "    plt.gca().spines[s].set_visible(False)\n",
    "plt.savefig('plots/simulated_fast.pdf', bbox_inches='tight')"
   ]
  },
  {
   "cell_type": "code",
   "execution_count": 200,
   "metadata": {},
   "outputs": [],
   "source": [
    "p_rot = 23.9\n",
    "n_spots = 3\n",
    "spot_radii = 0.2\n",
    "\n",
    "amps_slow = np.loadtxt('data/amps_slow.txt')"
   ]
  },
  {
   "cell_type": "code",
   "execution_count": 201,
   "metadata": {},
   "outputs": [
    {
     "name": "stderr",
     "output_type": "stream",
     "text": [
      "/Users/bmmorris/anaconda/lib/python3.5/site-packages/scipy/stats/morestats.py:1680: UserWarning: approximate p-value will be computed by extrapolation\n",
      "  warnings.warn(\"approximate p-value will be computed by extrapolation\")\n"
     ]
    }
   ],
   "source": [
    "def chisquared(spot_radius, min_latitude):\n",
    "    lons, lats, rads, incs = generate_spots(min_latitude=min_latitude, max_latitude=90, n_spots=n_spots,\n",
    "                                            spot_radius=spot_radius, n_inclinations=n_inclinations)\n",
    "    lcs = stars.light_curve(lons, lats, rads, incs)\n",
    "    smoothed_amps = 100 * lcs.ptp(axis=0)\n",
    "    bin_centers, norm_freq, norm_freq_err = norm_hist(smoothed_amps)\n",
    "    anderson_stat = anderson_ksamp([smoothed_amps, amps_slow]).statistic\n",
    "    chi2 = np.sum((norm_freq - normalized_freq)**2 / normalized_freq_err**2)\n",
    "    return chi2, anderson_stat, smoothed_amps\n",
    "\n",
    "radii_slow = np.arange(0.1, 0.45, 0.01)\n",
    "lats_slow = np.arange(20, 85, 5)\n",
    "\n",
    "chi2s = []\n",
    "anderson_stats = []\n",
    "for spot_radii in radii_slow:\n",
    "    tmp1 = []\n",
    "    tmp2 = []\n",
    "    for min_lat in lats_slow: \n",
    "        c2, anderson_stat, smoothed_amps = chisquared(spot_radii, min_lat)\n",
    "        tmp1.append(c2)\n",
    "        tmp2.append(anderson_stat)\n",
    "    chi2s.append(tmp1)\n",
    "    anderson_stats.append(tmp2)"
   ]
  },
  {
   "cell_type": "code",
   "execution_count": 221,
   "metadata": {},
   "outputs": [
    {
     "data": {
      "image/png": "[encoded data removed]",
      "text/plain": [
       "<Figure size 288x216 with 2 Axes>"
      ]
     },
     "metadata": {},
     "output_type": "display_data"
    }
   ],
   "source": [
    "plt.figure(figsize=(4, 3))\n",
    "dlats = lats_fast[1] - lats_fast[0]\n",
    "drads = radii_fast[1] - radii_fast[0]\n",
    "\n",
    "cax = plt.imshow(np.array(anderson_stats), origin='lower', aspect=200, vmin=-1, vmax=5,\n",
    "                 extent=(lats_slow.min() - dlats/2, lats_slow.max() + dlats/2, \n",
    "                         radii_slow.min() - drads/2, radii_slow.max() + drads/2), \n",
    "                 cmap=plt.cm.gray)\n",
    "cbar = plt.colorbar(cax, extend='both')\n",
    "fs = 12\n",
    "cbar.set_label('Anderson-Darling Stat', fontsize=fs)\n",
    "plt.xlabel('Minimum latitude [degree]', fontsize=fs)\n",
    "plt.ylabel('$\\\\rm R_{spot}/R_{star}$', fontsize=fs)\n",
    "plt.title(\"EPIC 211916756\")\n",
    "plt.savefig('plots/spot_minlat_slow.pdf', bbox_inches='tight')"
   ]
  },
  {
   "cell_type": "code",
   "execution_count": 213,
   "metadata": {},
   "outputs": [
    {
     "data": {
      "text/plain": [
       "<matplotlib.collections.PathCollection at 0x11522c8d0>"
      ]
     },
     "execution_count": 213,
     "metadata": {},
     "output_type": "execute_result"
    },
    {
     "data": {
      "image/png": "[encoded data removed]",
      "text/plain": [
       "<Figure size 432x288 with 1 Axes>"
      ]
     },
     "metadata": {},
     "output_type": "display_data"
    }
   ],
   "source": [
    "x, y = lats_slow, radii_slow[np.array(anderson_stats).argmin(axis=0)]\n",
    "\n",
    "plt.axhline(0.22)\n",
    "plt.scatter(x, y, marker='.')"
   ]
  },
  {
   "cell_type": "code",
   "execution_count": 218,
   "metadata": {},
   "outputs": [],
   "source": [
    "best_radius = 0.22\n",
    "min_lat = 70\n",
    "_, ad, ptp = chisquared(best_radius, min_lat)\n",
    "\n",
    "_, normalized_freq_best, _ = norm_hist(ptp)"
   ]
  },
  {
   "cell_type": "code",
   "execution_count": 220,
   "metadata": {},
   "outputs": [
    {
     "data": {
      "image/png": "[encoded data removed]",
      "text/plain": [
       "<Figure size 288x216 with 1 Axes>"
      ]
     },
     "metadata": {},
     "output_type": "display_data"
    }
   ],
   "source": [
    "bin_centers, normalized_freq, normalized_freq_err = norm_hist(amps_slow)\n",
    "\n",
    "plt.figure(figsize=(4, 3))\n",
    "plt.errorbar(bin_centers, normalized_freq, normalized_freq_err, \n",
    "             ls='steps-mid', ecolor='gray', color='k', label='Observed')\n",
    "\n",
    "bin_centers, normalized_freq_best, normalized_freq_err_best = norm_hist(ptp)\n",
    "\n",
    "plt.plot(bin_centers, normalized_freq_best, ls='steps-mid', color='r', label='Simulated')\n",
    "\n",
    "# plt.plot(bin_centers, normalized_freq_lower, ls='steps-mid', color='C1')\n",
    "# plt.plot(bin_centers, normalized_freq_upper, ls='steps-mid', color='C2')\n",
    "plt.legend().get_frame().set_alpha(0)\n",
    "plt.ylim([0, 1])\n",
    "plt.title(\"EPIC 211916756\")\n",
    "#plt.title('$\\\\rm R_{{spot}}/R_s$: ${0:.2f} \\pm {1:.2f}$'.format(best_radius, radius_err[0]))\n",
    "plt.xlabel('Smoothed Amp (%)')\n",
    "plt.ylabel('Probability Density')\n",
    "for s in ['right', 'top']: \n",
    "    plt.gca().spines[s].set_visible(False)\n",
    "plt.savefig('plots/simulated_slow.pdf', bbox_inches='tight')"
   ]
  },
  {
   "cell_type": "code",
   "execution_count": null,
   "metadata": {},
   "outputs": [],
   "source": []
  }
 ],
 "metadata": {
  "kernelspec": {
   "display_name": "Python 3",
   "language": "python",
   "name": "python3"
  },
  "language_info": {
   "codemirror_mode": {
    "name": "ipython",
    "version": 3
   },
   "file_extension": ".py",
   "mimetype": "text/x-python",
   "name": "python",
   "nbconvert_exporter": "python",
   "pygments_lexer": "ipython3",
   "version": "3.5.4"
  }
 },
 "nbformat": 4,
 "nbformat_minor": 2
}
