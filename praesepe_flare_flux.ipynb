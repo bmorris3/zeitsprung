{
 "cells": [
  {
   "cell_type": "code",
   "execution_count": 1,
   "metadata": {},
   "outputs": [],
   "source": [
    "%matplotlib inline\n",
    "import matplotlib.pyplot as plt\n",
    "import numpy as np\n",
    "from astropy.table import Table\n"
   ]
  },
  {
   "cell_type": "code",
   "execution_count": 2,
   "metadata": {},
   "outputs": [],
   "source": [
    "fast = np.loadtxt('data/epics_fast.txt')\n",
    "slow = np.loadtxt('data/epics_slow.txt')\n",
    "superfast = np.loadtxt('data/epics_superfast.txt')"
   ]
  },
  {
   "cell_type": "code",
   "execution_count": 3,
   "metadata": {},
   "outputs": [],
   "source": [
    "from astropy.stats import mad_std"
   ]
  },
  {
   "cell_type": "code",
   "execution_count": 5,
   "metadata": {},
   "outputs": [
    {
     "name": "stderr",
     "output_type": "stream",
     "text": [
      "WARNING: W27: None:74:2: W27: COOSYS deprecated in VOTable 1.2 [astropy.io.votable.tree]\n",
      "WARNING: W03: None:87:4: W03: Implicitly generating an ID from a name 'r'mag' -> 'r_mag' [astropy.io.votable.xmlutil]\n",
      "WARNING: W03: None:105:4: W03: Implicitly generating an ID from a name 'Clean?' -> 'Clean_' [astropy.io.votable.xmlutil]\n",
      "WARNING: W03: None:124:4: W03: Implicitly generating an ID from a name 'MP?' -> 'MP_' [astropy.io.votable.xmlutil]\n",
      "WARNING: W03: None:127:4: W03: Implicitly generating an ID from a name 'SE?' -> 'SE_' [astropy.io.votable.xmlutil]\n",
      "WARNING: W03: None:130:4: W03: Implicitly generating an ID from a name 'Bl?' -> 'Bl_' [astropy.io.votable.xmlutil]\n",
      "WARNING: W03: None:133:4: W03: Implicitly generating an ID from a name 'Bin?' -> 'Bin_' [astropy.io.votable.xmlutil]\n",
      "WARNING: W03: None:180:4: W03: Implicitly generating an ID from a name '2M' -> '_2M' [astropy.io.votable.xmlutil]\n",
      "WARNING: W49: None:195:140: W49: Empty cell illegal for integer fields. [astropy.io.votable.converters]\n",
      "WARNING: W49: None:196:141: W49: Empty cell illegal for integer fields. [astropy.io.votable.converters]\n",
      "WARNING: W49: None:197:159: W49: Empty cell illegal for integer fields. [astropy.io.votable.converters]\n",
      "WARNING: W49: None:198:160: W49: Empty cell illegal for integer fields. [astropy.io.votable.converters]\n",
      "WARNING: W49: None:199:154: W49: Empty cell illegal for integer fields. [astropy.io.votable.converters]\n",
      "WARNING: W49: None:200:136: W49: Empty cell illegal for integer fields. [astropy.io.votable.converters]\n",
      "WARNING: W49: None:201:157: W49: Empty cell illegal for integer fields. [astropy.io.votable.converters]\n",
      "WARNING: W49: None:202:157: W49: Empty cell illegal for integer fields. [astropy.io.votable.converters]\n",
      "WARNING: W49: None:203:157: W49: Empty cell illegal for integer fields. [astropy.io.votable.converters]\n",
      "WARNING: W49: None:204:157: W49: Empty cell illegal for integer fields. (suppressing further warnings of this type...) [astropy.io.votable.converters]\n"
     ]
    }
   ],
   "source": [
    "douglas = Table.read('data/douglas2017.vot')\n",
    "douglas.add_index('EPIC')"
   ]
  },
  {
   "cell_type": "code",
   "execution_count": 6,
   "metadata": {},
   "outputs": [],
   "source": [
    "from scipy.ndimage import gaussian_filter1d\n",
    "from scipy.optimize import minimize\n",
    "from scipy.stats import skew\n",
    "from interpacf import interpolated_acf"
   ]
  },
  {
   "cell_type": "code",
   "execution_count": 19,
   "metadata": {},
   "outputs": [],
   "source": [
    "plots = False\n",
    "smoothed_amps_fast = dict()\n",
    "newstat_fast = dict()\n",
    "periods = dict()\n",
    "\n",
    "baseline_flux_at_flares = []\n",
    "smoothed_flux_dist = []\n",
    "\n",
    "for i in range(len(fast)): \n",
    "    times, fluxes = np.load(\"data/{0}.npy\".format(int(fast[i])))\n",
    "    clipped = ~np.isnan(fluxes)\n",
    "    times, fluxes = times[clipped], fluxes[clipped]\n",
    "    clip_flares = np.abs(fluxes - np.nanmedian(fluxes)) < 5*mad_std(fluxes, ignore_nan=True)\n",
    "\n",
    "    # Remove polynomial trend\n",
    "    fit = np.polyval(np.polyfit(times[clip_flares]-times.mean(), fluxes[clip_flares], 5), times-times.mean())\n",
    "    fluxes /= fit\n",
    "    \n",
    "    period = douglas.loc[fast[i]]['Prot1']\n",
    "\n",
    "    phases = (times % period) / period\n",
    "    \n",
    "    sort = np.argsort(phases)\n",
    "    sort_clipped = np.argsort(phases[clip_flares])\n",
    "\n",
    "    smoothed = gaussian_filter1d(fluxes[clip_flares][sort_clipped], 50, mode='nearest')\n",
    "    \n",
    "    smoothed_sorted = smoothed[np.argsort(times[sort_clipped])]\n",
    "    \n",
    "    interp_smoothed = np.interp(times, times[clip_flares], smoothed_sorted)\n",
    "    outliers = (fluxes - interp_smoothed) > 0.015 #np.percentile(fluxes, 95)\n",
    "    \n",
    "    smoothed_amps_fast[fast[i]] = smoothed.max() - smoothed.min()\n",
    "    \n",
    "#     fft = np.abs(np.fft.rfft(fluxes))**2\n",
    "#     freq = np.fft.rfftfreq(len(fluxes), times[1]-times[0])\n",
    "\n",
    "    newstat_fast[fast[i]] = douglas.loc[fast[i]][\"Pw1\"]#fft[np.abs(freq - 1/period).argmin()]\n",
    "    periods[fast[i]] = period\n",
    "\n",
    "    if np.count_nonzero(outliers) < 100: \n",
    "        baseline_flux_at_flares.append(interp_smoothed[outliers])#[np.argmax(fluxes[outliers])])\n",
    "        smoothed_flux_dist.append(smoothed)\n",
    "        \n",
    "    if plots: \n",
    "        fig, ax = plt.subplots(1, 3, figsize=(16, 3))\n",
    "        ax[0].plot(times, fluxes)\n",
    "        ax[1].plot(phases, fluxes, '.', alpha=0.5)\n",
    "        ax[1].plot(phases[clip_flares][sort_clipped], smoothed, 'r')\n",
    "        ax[2].loglog(freq, fft)\n",
    "        ax[2].axhline(fft[1:].max())\n",
    "        ax[2].axvline(1/period)\n",
    "#         ax[2].axvline(freq[fft.argmax()])\n",
    "#         ax[2].plot(times[outliers], fluxes[outliers], '.', alpha=0.5)\n",
    "#         ax[2].plot(times[~outliers], fluxes[~outliers], '.', alpha=0.5)\n",
    "#         ax[2].plot(times, interp_smoothed, ',')\n",
    "#         ax[3].plot(interp_smoothed[outliers], fluxes[outliers], '.')\n",
    "        \n",
    "        ax[1].axhline(0.99*smoothed.min())\n",
    "        ax[1].axhline(1.01*smoothed.max())\n",
    "        ax[1].set_ylim([smoothed.min(), smoothed.max()])\n",
    "        ax[1].axhline(np.median(fluxes[sort]), ls='--', color='k')\n",
    "        ax[1].axhline(np.mean(fluxes[sort]), ls='-.', color='gray')\n",
    "        \n",
    "        ax[1].set_title(\"{0}\".format(newstat_fast[fast[i]]))\n",
    "\n",
    "        plt.show()"
   ]
  },
  {
   "cell_type": "code",
   "execution_count": 20,
   "metadata": {},
   "outputs": [
    {
     "name": "stdout",
     "output_type": "stream",
     "text": [
      "Anderson_ksampResult(statistic=-0.13307591418985151, critical_values=array([ 0.325,  1.226,  1.961,  2.718,  3.752]), significance_level=0.3999963173742384)\n"
     ]
    },
    {
     "name": "stderr",
     "output_type": "stream",
     "text": [
      "/Users/bmmorris/anaconda/lib/python3.5/site-packages/scipy/stats/morestats.py:1680: UserWarning: approximate p-value will be computed by extrapolation\n",
      "  warnings.warn(\"approximate p-value will be computed by extrapolation\")\n"
     ]
    },
    {
     "data": {
      "image/png": "[encoded data removed]",
      "text/plain": [
       "<Figure size 432x288 with 1 Axes>"
      ]
     },
     "metadata": {},
     "output_type": "display_data"
    }
   ],
   "source": [
    "plt.hist(np.hstack(smoothed_flux_dist), bins=100, density=True, lw=2, histtype='step');\n",
    "plt.hist(np.hstack(baseline_flux_at_flares), bins=100, density=True, lw=2, histtype='step');\n",
    "from scipy.stats import anderson_ksamp\n",
    "print(anderson_ksamp([np.hstack(smoothed_flux_dist), np.hstack(baseline_flux_at_flares)]))"
   ]
  },
  {
   "cell_type": "code",
   "execution_count": 21,
   "metadata": {},
   "outputs": [],
   "source": [
    "plots = False\n",
    "smoothed_amps_slow = dict()\n",
    "newstat_slow = dict()\n",
    "\n",
    "\n",
    "baseline_flux_at_flares = []\n",
    "smoothed_flux_dist = []\n",
    "\n",
    "for i in range(len(slow)): \n",
    "    times, fluxes = np.load(\"data/{0}.npy\".format(int(slow[i])))\n",
    "    if hasattr(times, \"__len__\"): \n",
    "        times, fluxes = np.load(\"data/{0}.npy\".format(int(slow[i])))\n",
    "        clipped = ~np.isnan(fluxes)\n",
    "        times, fluxes = times[clipped], fluxes[clipped]\n",
    "        clip_flares = np.abs(fluxes - np.nanmedian(fluxes)) < 5*mad_std(fluxes, ignore_nan=True)\n",
    "\n",
    "        # Remove polynomial trend\n",
    "        fit = np.polyval(np.polyfit(times[clip_flares]-times.mean(), fluxes[clip_flares], 5), times-times.mean())\n",
    "        fluxes /= fit\n",
    "\n",
    "        period = douglas.loc[slow[i]]['Prot1']\n",
    "\n",
    "        phases = (times % period) / period\n",
    "\n",
    "        sort = np.argsort(phases)\n",
    "        sort_clipped = np.argsort(phases[clip_flares])\n",
    "\n",
    "        smoothed = gaussian_filter1d(fluxes[clip_flares][sort_clipped], 50, mode='nearest')\n",
    "\n",
    "        smoothed_sorted = smoothed[np.argsort(times[sort_clipped])]\n",
    "\n",
    "        interp_smoothed = np.interp(times, times[clip_flares], smoothed_sorted)\n",
    "        outliers = (fluxes - interp_smoothed) > 0.015 #np.percentile(fluxes, 95)\n",
    "\n",
    "        smoothed_amps_slow[slow[i]] = smoothed.max() - smoothed.min()\n",
    "\n",
    "    #     fft = np.abs(np.fft.rfft(fluxes))**2\n",
    "    #     freq = np.fft.rfftfreq(len(fluxes), times[1]-times[0])\n",
    "\n",
    "        if np.count_nonzero(outliers) < 100: \n",
    "            baseline_flux_at_flares.append(interp_smoothed[outliers])#[np.argmax(fluxes[outliers])])\n",
    "            smoothed_flux_dist.append(smoothed)"
   ]
  },
  {
   "cell_type": "code",
   "execution_count": 22,
   "metadata": {},
   "outputs": [
    {
     "name": "stdout",
     "output_type": "stream",
     "text": [
      "Anderson_ksampResult(statistic=243.69630149703727, critical_values=array([ 0.325,  1.226,  1.961,  2.718,  3.752]), significance_level=inf)\n"
     ]
    },
    {
     "data": {
      "image/png": "[encoded data removed]",
      "text/plain": [
       "<Figure size 432x288 with 1 Axes>"
      ]
     },
     "metadata": {},
     "output_type": "display_data"
    }
   ],
   "source": [
    "plt.hist(np.hstack(smoothed_flux_dist), bins=100, density=True, lw=2, histtype='step');\n",
    "plt.hist(np.hstack(baseline_flux_at_flares), bins=100, density=True, lw=2, histtype='step');\n",
    "print(anderson_ksamp([np.hstack(smoothed_flux_dist), np.hstack(baseline_flux_at_flares)]))"
   ]
  },
  {
   "cell_type": "code",
   "execution_count": 23,
   "metadata": {},
   "outputs": [],
   "source": [
    "plots = False\n",
    "smoothed_amps_superfast = dict()\n",
    "newstat_superfast = dict()\n",
    "\n",
    "baseline_flux_at_flares = []\n",
    "smoothed_flux_dist = []\n",
    "\n",
    "for i in range(len(superfast)): \n",
    "    times, fluxes = np.load(\"data/{0}.npy\".format(int(superfast[i])))\n",
    "    if hasattr(times, \"__len__\"): \n",
    "        times, fluxes = np.load(\"data/{0}.npy\".format(int(superfast[i])))\n",
    "        clipped = ~np.isnan(fluxes)\n",
    "        times, fluxes = times[clipped], fluxes[clipped]\n",
    "        clip_flares = np.abs(fluxes - np.nanmedian(fluxes)) < 5*mad_std(fluxes, ignore_nan=True)\n",
    "\n",
    "        # Remove polynomial trend\n",
    "        fit = np.polyval(np.polyfit(times[clip_flares]-times.mean(), fluxes[clip_flares], 5), times-times.mean())\n",
    "        fluxes /= fit\n",
    "\n",
    "        phases = (times % period) / period\n",
    "\n",
    "        sort = np.argsort(phases)\n",
    "        sort_clipped = np.argsort(phases[clip_flares])\n",
    "\n",
    "        smoothed = gaussian_filter1d(fluxes[clip_flares][sort_clipped], 50, mode='nearest')\n",
    "\n",
    "        smoothed_sorted = smoothed[np.argsort(times[sort_clipped])]\n",
    "\n",
    "        interp_smoothed = np.interp(times, times[clip_flares], smoothed_sorted)\n",
    "        outliers = (fluxes - interp_smoothed) > 0.015 #np.percentile(fluxes, 95)\n",
    "\n",
    "        smoothed_amps_superfast[superfast[i]] = smoothed.max() - smoothed.min()\n",
    "\n",
    "    #     fft = np.abs(np.fft.rfft(fluxes))**2\n",
    "    #     freq = np.fft.rfftfreq(len(fluxes), times[1]-times[0])\n",
    "\n",
    "        if np.count_nonzero(outliers) < 100: \n",
    "            baseline_flux_at_flares.append(interp_smoothed[outliers])#[np.argmax(fluxes[outliers])])\n",
    "            smoothed_flux_dist.append(smoothed)"
   ]
  },
  {
   "cell_type": "code",
   "execution_count": 24,
   "metadata": {},
   "outputs": [
    {
     "name": "stdout",
     "output_type": "stream",
     "text": [
      "Anderson_ksampResult(statistic=39.109362995951003, critical_values=array([ 0.325,  1.226,  1.961,  2.718,  3.752]), significance_level=0.04745372849325029)\n"
     ]
    },
    {
     "data": {
      "image/png": "[encoded data removed]",
      "text/plain": [
       "<Figure size 432x288 with 1 Axes>"
      ]
     },
     "metadata": {},
     "output_type": "display_data"
    }
   ],
   "source": [
    "plt.hist(np.hstack(smoothed_flux_dist), bins=100, density=True, lw=2, histtype='step');\n",
    "plt.hist(np.hstack(baseline_flux_at_flares), bins=100, density=True, lw=2, histtype='step');\n",
    "print(anderson_ksamp([np.hstack(smoothed_flux_dist), np.hstack(baseline_flux_at_flares)]))"
   ]
  },
  {
   "cell_type": "code",
   "execution_count": null,
   "metadata": {},
   "outputs": [],
   "source": []
  }
 ],
 "metadata": {
  "kernelspec": {
   "display_name": "Python 3",
   "language": "python",
   "name": "python3"
  },
  "language_info": {
   "codemirror_mode": {
    "name": "ipython",
    "version": 3
   },
   "file_extension": ".py",
   "mimetype": "text/x-python",
   "name": "python",
   "nbconvert_exporter": "python",
   "pygments_lexer": "ipython3",
   "version": "3.5.4"
  }
 },
 "nbformat": 4,
 "nbformat_minor": 2
}
