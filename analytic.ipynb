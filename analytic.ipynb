{
 "cells": [
  {
   "cell_type": "code",
   "execution_count": 1,
   "metadata": {},
   "outputs": [],
   "source": [
    "%matplotlib inline\n",
    "import matplotlib.pyplot as plt\n",
    "import numpy as np\n",
    "import astropy.units as u\n",
    "from astropy.coordinates import CartesianRepresentation, UnitSphericalRepresentation\n",
    "from astropy.coordinates.matrix_utilities import rotation_matrix"
   ]
  },
  {
   "cell_type": "code",
   "execution_count": 2,
   "metadata": {},
   "outputs": [],
   "source": [
    "from scipy.integrate import quad \n",
    "\n",
    "def limb_darkening(u_ld, r):\n",
    "    u1, u2 = u_ld\n",
    "    mu = np.sqrt(1 - r**2)\n",
    "    return (1 - u1 * (1 - mu) - u2 * (1 - mu)**2) / (1 - u1/3 - u2/6) / np.pi\n",
    "\n",
    "def limb_darkening_normed(u_ld, r): \n",
    "    return limb_darkening(u_ld, r)/limb_darkening(u_ld, 0)\n",
    "\n",
    "def total_flux(u_ld): \n",
    "    return 2 * np.pi * quad(lambda r: r * limb_darkening_normed(u_ld, r), 0, 1)[0]\n",
    "\n",
    "spot_contrast = 0.7\n",
    "u_ld = [0.5079, 0.2239]\n",
    "f0 = total_flux(u_ld)"
   ]
  },
  {
   "cell_type": "code",
   "execution_count": 26,
   "metadata": {},
   "outputs": [],
   "source": [
    "n_rotations = 30\n",
    "angles = np.arange(0, 2*np.pi, 2*np.pi/n_rotations) * u.rad\n",
    "transform_matrix = rotation_matrix(angles[:, np.newaxis])"
   ]
  },
  {
   "cell_type": "code",
   "execution_count": 39,
   "metadata": {},
   "outputs": [],
   "source": [
    "inc_stellar = 90 * u.deg\n",
    "\n",
    "r_spot = np.array([0.2, 0.2])\n",
    "\n",
    "spot_lats = np.array([[0, 80]])*u.deg\n",
    "spot_lons = np.array([[0, 180]])*u.deg\n",
    "\n",
    "usr = UnitSphericalRepresentation(spot_lons * np.ones((n_rotations, len(spot_lats))), \n",
    "                                  spot_lats * np.ones((n_rotations, len(spot_lats)))) \n",
    "cartesian = usr.represent_as(CartesianRepresentation)"
   ]
  },
  {
   "cell_type": "code",
   "execution_count": 41,
   "metadata": {},
   "outputs": [
    {
     "data": {
      "text/plain": [
       "[<matplotlib.lines.Line2D at 0x10d1ce080>]"
      ]
     },
     "execution_count": 41,
     "metadata": {},
     "output_type": "execute_result"
    },
    {
     "data": {
      "image/png": "[encoded data removed]",
      "text/plain": [
       "<Figure size 432x288 with 1 Axes>"
      ]
     },
     "metadata": {},
     "output_type": "display_data"
    }
   ],
   "source": [
    "rotated_spot_positions = cartesian.transform(transform_matrix)\n",
    "r = np.ma.masked_array(np.sqrt(rotated_spot_positions.y**2 + rotated_spot_positions.z**2), \n",
    "                       mask=rotated_spot_positions.x > 0)\n",
    "ld = limb_darkening_normed(u_ld, r)\n",
    "\n",
    "f_spots = np.pi * r_spot**2 * (1 - spot_contrast) * ld * np.sqrt(1 - r**2)\n",
    "\n",
    "delta_f = 1 - np.sum(f_spots/f0, axis=-1)\n",
    "plt.plot(angles, delta_f.data)"
   ]
  },
  {
   "cell_type": "code",
   "execution_count": null,
   "metadata": {},
   "outputs": [],
   "source": []
  },
  {
   "cell_type": "code",
   "execution_count": null,
   "metadata": {},
   "outputs": [],
   "source": []
  }
 ],
 "metadata": {
  "kernelspec": {
   "display_name": "Python 3",
   "language": "python",
   "name": "python3"
  },
  "language_info": {
   "codemirror_mode": {
    "name": "ipython",
    "version": 3
   },
   "file_extension": ".py",
   "mimetype": "text/x-python",
   "name": "python",
   "nbconvert_exporter": "python",
   "pygments_lexer": "ipython3",
   "version": "3.5.4"
  }
 },
 "nbformat": 4,
 "nbformat_minor": 2
}
