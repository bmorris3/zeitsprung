{
 "cells": [
  {
   "cell_type": "code",
   "execution_count": 1,
   "metadata": {},
   "outputs": [],
   "source": [
    "%matplotlib inline\n",
    "import matplotlib.pyplot as plt\n",
    "import numpy as np\n",
    "import astropy.units as u\n",
    "from astropy.time import Time\n",
    "from rms import STSP, Planet, Spot, Star\n",
    "from scipy.stats import ks_2samp, anderson_ksamp"
   ]
  },
  {
   "cell_type": "code",
   "execution_count": 27,
   "metadata": {},
   "outputs": [
    {
     "name": "stdout",
     "output_type": "stream",
     "text": [
      "spot area: 0.030000000000000006\n"
     ]
    }
   ],
   "source": [
    "p = Planet.non_transiting()\n",
    "\n",
    "n_stars = 300\n",
    "n_times = 20\n",
    "\n",
    "n_spots = 3\n",
    "p_rot = 1.88\n",
    "spot_radii = 0.2 #0.32\n",
    "amps_fast = np.loadtxt('data/lowmass_fast.txt')\n",
    "\n",
    "print('spot area:', n_spots * np.pi*spot_radii**2 / (4*np.pi))\n",
    "\n",
    "times = Time(np.linspace(0, p_rot, n_times), format='jd')\n",
    "\n",
    "def ks(spot_radii, amps, n_stars=n_stars, n_spots=n_spots):\n",
    "    ptp = []\n",
    "\n",
    "    for _ in range(n_stars):\n",
    "        random_inc = 180*np.random.rand() - 90\n",
    "        star = Star(p, rotation_period=p_rot, spot_contrast=0.7, \n",
    "                    inc_stellar=random_inc, u=[0.5079, 0.2239])\n",
    "\n",
    "        spots = []\n",
    "        for _ in range(n_spots): \n",
    "            random_lat = (20*np.random.rand() + 70)*u.deg\n",
    "            random_lon = 360*np.random.rand()*u.deg\n",
    "            spots.append(Spot(random_lat, random_lon, spot_radii))\n",
    "    \n",
    "        with STSP(times, star, spots) as s: \n",
    "            lc = s.generate_lightcurve(n_ld_rings=5)\n",
    "            ptp.append(100 * lc.fluxes.ptp())\n",
    "            \n",
    "    #stat = ks_2samp(ptp, amps).statistic\n",
    "    stat = anderson_ksamp([ptp, amps]).statistic\n",
    "    \n",
    "    return stat, ptp\n",
    "\n",
    "radii_fast = np.arange(0.1, 0.5, 0.05)\n",
    "\n",
    "stats = []\n",
    "spots = np.array([3, 4, 5, 6, 7])\n",
    "for n_spots in spots: \n",
    "    stats_fast = []\n",
    "    for spot_radii in radii_fast:\n",
    "\n",
    "        stat, ptp = ks(spot_radii, amps_fast, n_spots=n_spots)\n",
    "\n",
    "        stats_fast.append(stat)\n",
    "    stats.append(stats_fast)"
   ]
  },
  {
   "cell_type": "code",
   "execution_count": 30,
   "metadata": {},
   "outputs": [
    {
     "data": {
      "text/plain": [
       "array([[ 125.94029948,   86.7153908 ,   36.0828573 ,    5.52333789,\n",
       "           4.40952224,   11.98747771,   34.26688698,   41.47154407],\n",
       "       [ 125.301056  ,   74.34658123,   30.27859103,    4.51662512,\n",
       "           3.975438  ,    9.71224575,   26.96432237,   46.51482207],\n",
       "       [ 123.7290409 ,   74.37860501,   28.23299602,    4.03090329,\n",
       "           1.56421221,   19.83720557,   34.61280228,   43.18254368],\n",
       "       [ 120.22044917,   72.29640156,   28.60636366,    4.58896477,\n",
       "           2.70607209,   11.94389464,   36.42405532,   49.09649883],\n",
       "       [ 116.33233803,   75.82506012,   33.37534727,    3.84809108,\n",
       "           6.02201557,   18.71572499,   23.53123919,   50.46433712]])"
      ]
     },
     "execution_count": 30,
     "metadata": {},
     "output_type": "execute_result"
    }
   ],
   "source": [
    "np.array(stats)"
   ]
  },
  {
   "cell_type": "code",
   "execution_count": 38,
   "metadata": {},
   "outputs": [
    {
     "data": {
      "image/png": "[encoded data removed]",
      "text/plain": [
       "<Figure size 432x288 with 2 Axes>"
      ]
     },
     "metadata": {},
     "output_type": "display_data"
    }
   ],
   "source": [
    "# plt.plot(radii_fast, stats_fast)\n",
    "# plt.xlabel('Spot Radius')\n",
    "# plt.ylabel('A-D Statistic')\n",
    "\n",
    "cax = plt.imshow(stats, origin='lower', \n",
    "                 extent=[radii_fast.min(), radii_fast.max(), spots.min()-0.5, spots.max()+0.5], \n",
    "                 aspect=0.05, vmin=0, vmax=50)\n",
    "cbar = plt.colorbar(cax)\n",
    "cbar.set_label('A-D')\n",
    "plt.xlabel('$\\\\rm R_{spot}/R_\\star$', fontsize=15)\n",
    "plt.ylabel('$\\\\rm N_{spots}$', fontsize=15)\n",
    "plt.savefig('plots/grid.pdf')"
   ]
  },
  {
   "cell_type": "code",
   "execution_count": null,
   "metadata": {},
   "outputs": [],
   "source": []
  }
 ],
 "metadata": {
  "kernelspec": {
   "display_name": "Python 3",
   "language": "python",
   "name": "python3"
  },
  "language_info": {
   "codemirror_mode": {
    "name": "ipython",
    "version": 3
   },
   "file_extension": ".py",
   "mimetype": "text/x-python",
   "name": "python",
   "nbconvert_exporter": "python",
   "pygments_lexer": "ipython3",
   "version": "3.5.4"
  }
 },
 "nbformat": 4,
 "nbformat_minor": 2
}
