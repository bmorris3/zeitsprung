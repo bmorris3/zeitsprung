{
 "cells": [
  {
   "cell_type": "code",
   "execution_count": 1,
   "metadata": {},
   "outputs": [],
   "source": [
    "%matplotlib inline\n",
    "import matplotlib.pyplot as plt\n",
    "import numpy as np\n",
    "from astropy.table import Table"
   ]
  },
  {
   "cell_type": "code",
   "execution_count": 2,
   "metadata": {},
   "outputs": [],
   "source": [
    "fast = np.loadtxt('data/epics_fast.txt')\n",
    "slow = np.loadtxt('data/epics_slow.txt')"
   ]
  },
  {
   "cell_type": "code",
   "execution_count": 15,
   "metadata": {},
   "outputs": [
    {
     "name": "stdout",
     "output_type": "stream",
     "text": [
      "INFO  [everest.user.DownloadFile()]: Found cached file.\n",
      "INFO  [everest.user.load_fits()]: Loading FITS file for 211983476.\n",
      "INFO  [everest.user.DownloadFile()]: Found cached file.\n",
      "INFO  [everest.user.load_fits()]: Loading FITS file for 211950886.\n",
      "INFO  [everest.user.DownloadFile()]: Found cached file.\n",
      "INFO  [everest.user.load_fits()]: Loading FITS file for 211949413.\n",
      "INFO  [everest.user.DownloadFile()]: Found cached file.\n",
      "INFO  [everest.user.load_fits()]: Loading FITS file for 212010627.\n",
      "INFO  [everest.user.DownloadFile()]: Found cached file.\n",
      "INFO  [everest.user.load_fits()]: Loading FITS file for 211989060.\n"
     ]
    }
   ],
   "source": [
    "import everest\n",
    "import os\n",
    "\n",
    "for i in range(len(fast)): \n",
    "    path = 'data/{0}.npy'.format(int(fast[i]))\n",
    "    if not os.path.exists(path):\n",
    "        s = everest.Everest(fast[i])\n",
    "        np.save(path, np.array([s.time, s.flux]))"
   ]
  },
  {
   "cell_type": "code",
   "execution_count": 16,
   "metadata": {},
   "outputs": [
    {
     "name": "stdout",
     "output_type": "stream",
     "text": [
      "INFO  [everest.user.DownloadFile()]: Downloading the file...\n",
      "INFO  [everest.user.load_fits()]: Loading FITS file for 211939447.\n",
      "INFO  [everest.user.DownloadFile()]: Downloading the file...\n",
      "INFO  [everest.user.load_fits()]: Loading FITS file for 211991772.\n",
      "INFO  [everest.user.DownloadFile()]: Downloading the file...\n",
      "INFO  [everest.user.load_fits()]: Loading FITS file for 211890774.\n",
      "INFO  [everest.user.DownloadFile()]: Downloading the file...\n",
      "INFO  [everest.user.load_fits()]: Loading FITS file for 212112321.\n",
      "INFO  [everest.user.DownloadFile()]: Downloading the file...\n",
      "INFO  [everest.user.load_fits()]: Loading FITS file for 211908928.\n",
      "INFO  [everest.user.DownloadFile()]: Downloading the file...\n",
      "INFO  [everest.user.load_fits()]: Loading FITS file for 211971819.\n",
      "INFO  [everest.user.DownloadFile()]: Downloading the file...\n",
      "INFO  [everest.user.load_fits()]: Loading FITS file for 211799258.\n",
      "INFO  [everest.user.DownloadFile()]: Downloading the file...\n",
      "INFO  [everest.user.load_fits()]: Loading FITS file for 211896749.\n",
      "INFO  [everest.user.DownloadFile()]: Downloading the file...\n",
      "INFO  [everest.user.load_fits()]: Loading FITS file for 211827220.\n",
      "INFO  [everest.user.DownloadFile()]: Downloading the file...\n",
      "INFO  [everest.user.load_fits()]: Loading FITS file for 211776073.\n",
      "INFO  [everest.user.DownloadFile()]: Downloading the file...\n",
      "INFO  [everest.user.load_fits()]: Loading FITS file for 211988080.\n",
      "INFO  [everest.user.DownloadFile()]: Downloading the file...\n",
      "INFO  [everest.user.load_fits()]: Loading FITS file for 212012721.\n"
     ]
    }
   ],
   "source": [
    "for i in range(len(slow)): \n",
    "    path = 'data/{0}.npy'.format(int(slow[i]))\n",
    "    if not os.path.exists(path):\n",
    "        s = everest.Everest(slow[i])\n",
    "        np.save(path, np.array([s.time, s.flux]))"
   ]
  },
  {
   "cell_type": "code",
   "execution_count": null,
   "metadata": {},
   "outputs": [],
   "source": []
  }
 ],
 "metadata": {
  "kernelspec": {
   "display_name": "Python 3",
   "language": "python",
   "name": "python3"
  },
  "language_info": {
   "codemirror_mode": {
    "name": "ipython",
    "version": 3
   },
   "file_extension": ".py",
   "mimetype": "text/x-python",
   "name": "python",
   "nbconvert_exporter": "python",
   "pygments_lexer": "ipython3",
   "version": "3.5.4"
  }
 },
 "nbformat": 4,
 "nbformat_minor": 2
}
