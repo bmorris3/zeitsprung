{
 "cells": [
  {
   "cell_type": "code",
   "execution_count": 2,
   "metadata": {},
   "outputs": [],
   "source": [
    "%matplotlib inline\n",
    "import matplotlib.pyplot as plt\n",
    "import numpy as np\n",
    "import astropy.units as u\n",
    "from fleck import generate_spots, Stars"
   ]
  },
  {
   "cell_type": "code",
   "execution_count": 34,
   "metadata": {},
   "outputs": [
    {
     "data": {
      "image/png": "[encoded data removed]",
      "text/plain": [
       "<Figure size 288x216 with 1 Axes>"
      ]
     },
     "metadata": {},
     "output_type": "display_data"
    }
   ],
   "source": [
    "n_incs = 10000\n",
    "n_spots = 3\n",
    "\n",
    "fig, ax = plt.subplots(figsize=(4,3))\n",
    "\n",
    "min_lat = [58, 57, 68]\n",
    "spot_contrast = [0.62, 0.59, 0.66]\n",
    "spot_radii = [0.24, 0.30, 0.14]\n",
    "\n",
    "for i in range(3): \n",
    "    inc_stellar = (180*np.random.rand(n_incs) - 90) * u.deg\n",
    "    spot_radii = spot_radii[i] * np.ones((n_spots, n_incs))\n",
    "    spot_lats = ((90-min_lat[i])*np.random.rand(n_spots, n_incs) + min_lat[i]) * u.deg\n",
    "    spot_lons = 360*np.random.rand(n_spots, n_incs) * u.deg\n",
    "\n",
    "    n_phases = 30\n",
    "    u_ld = [0.5079, 0.2239]\n",
    "\n",
    "    stars = Stars(spot_contrast[i], n_phases, u_ld)\n",
    "    lcs = stars.light_curves(spot_lons, spot_lats, spot_radii, inc_stellar)\n",
    "\n",
    "    b = 0 \n",
    "    rprs = 0.1\n",
    "\n",
    "    x = 1 - np.sqrt(1 - b**2)\n",
    "    lam_max = rprs**2 * ( 1 - u_ld[0] * x - u_ld[1] * x**2) / (1 - u_ld[0]/3 - u_ld[1]/6)\n",
    "\n",
    "    depth_observed = lam_max / lcs\n",
    "    fs = 15\n",
    "\n",
    "    ticks = np.arange(0, 2*np.pi, 0.5*np.pi)\n",
    "\n",
    "    max_depths = np.max(depth_observed, axis=0)\n",
    "    ax.hist(max_depths / lam_max, density=True, histtype='step', lw=3, zorder=-i)\n",
    "ax.set(xlabel='Depth contamination factor', ylabel='Probability density')\n",
    "for s in 'right top'.split():\n",
    "    ax.spines[s].set_visible(False)\n",
    "fig.tight_layout()\n",
    "fig.savefig('plots/depths.pdf', bbox_inches='tight')\n",
    "plt.show()"
   ]
  },
  {
   "cell_type": "code",
   "execution_count": 29,
   "metadata": {},
   "outputs": [
    {
     "data": {
      "text/plain": [
       "1.0488088481701516"
      ]
     },
     "execution_count": 29,
     "metadata": {},
     "output_type": "execute_result"
    }
   ],
   "source": [
    "np.sqrt(1.1*rprs**2) / rprs"
   ]
  },
  {
   "cell_type": "code",
   "execution_count": 30,
   "metadata": {},
   "outputs": [
    {
     "data": {
      "text/plain": [
       "0.05405405405405406"
      ]
     },
     "execution_count": 30,
     "metadata": {},
     "output_type": "execute_result"
    }
   ],
   "source": [
    "0.2/3.70"
   ]
  },
  {
   "cell_type": "code",
   "execution_count": null,
   "metadata": {},
   "outputs": [],
   "source": []
  }
 ],
 "metadata": {
  "kernelspec": {
   "display_name": "Python 3",
   "language": "python",
   "name": "python3"
  },
  "language_info": {
   "codemirror_mode": {
    "name": "ipython",
    "version": 3
   },
   "file_extension": ".py",
   "mimetype": "text/x-python",
   "name": "python",
   "nbconvert_exporter": "python",
   "pygments_lexer": "ipython3",
   "version": "3.5.4"
  }
 },
 "nbformat": 4,
 "nbformat_minor": 2
}
