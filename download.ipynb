{
 "cells": [
  {
   "cell_type": "code",
   "execution_count": 58,
   "metadata": {},
   "outputs": [
    {
     "name": "stdout",
     "output_type": "stream",
     "text": [
      "DEBUG [matplotlib.pyplot.switch_backend()]: Loaded backend module://ipykernel.pylab.backend_inline version unknown.\n"
     ]
    }
   ],
   "source": [
    "%matplotlib inline\n",
    "import everest\n",
    "import matplotlib.pyplot as plt\n",
    "import numpy as np\n",
    "from astropy.table import Table\n",
    "from astropy.constants import R_sun, R_earth"
   ]
  },
  {
   "cell_type": "code",
   "execution_count": 68,
   "metadata": {},
   "outputs": [
    {
     "data": {
      "text/plain": [
       "20.225007192640714"
      ]
     },
     "execution_count": 68,
     "metadata": {},
     "output_type": "execute_result"
    }
   ],
   "source": [
    "b = 0.60\n",
    "inc = 88.3\n",
    "\n",
    "b / np.cos(np.radians(inc))"
   ]
  },
  {
   "cell_type": "code",
   "execution_count": 69,
   "metadata": {},
   "outputs": [],
   "source": [
    "# Mann 2016: 210490365\n",
    "# Mann 2017: 211990866, 211913977, 211970147, 211822797, 211969807, 211901114 (not in NEA?), 211916756\n",
    "# Mann 2018: 247589423\n",
    "# Rizzuto 2018: 211964830 (C16 not in EVEREST)\n",
    "\n",
    "epic= [210490365, 211990866, 211913977, 211970147, 211822797,\n",
    "       211969807, 211916756, 247589423, 247589423, 247589423]\n",
    "per = [3.484552, 1.673833, 14.677286, 9.915615, 21.169619, \n",
    "       1.974238, 10.134016, 7.975292, 17.307137, 25.575065]\n",
    "rp  = [0.1065, 0.0269, 0.026134, 0.0170, 0.0336, \n",
    "       0.0365, 0.08530, 0.0137, 0.0401, 0.0201]\n",
    "t0  = [2457062.57935, 2457140.72062, 2457152.68135, 2457139.65518, 2457123.23803, \n",
    "       2457140.38117, 2457150.87837, 2457817.75631, 2457812.71770, 2457780.81164]\n",
    "inc = [88.3, 85.1, 89.4, 89.0, 89.73, \n",
    "       88.00, 89.4, 89.3, 89.6, 89.4]\n",
    "ecc = [0.27, 0.24, 0.10, 0.10, 0.18, \n",
    "       0.09, 0.16, 0.10, 0.13, 0.14]\n",
    "w   = [62.0, 29, 0.00, -1.00, 0.0, \n",
    "       6.24, -2.00, 12, 24, 2]\n",
    "a   = [20.225, 6.2, 32.5, 25.3, 46.7, \n",
    "       11.0, 18.27, 23.1, 39.0, 50.7]\n",
    "mstar = [0.294, 1.23, 0.80, 0.77, 0.663459,\n",
    "         0.426533, 0.44, 0.74, 0.74, 0.74]\n",
    "mstar_err = [0.021, 0.02, 0.06, 0.06, 0.066346,\n",
    "             0.06, 0.01, 0.02, 0.02, 0.02]\n",
    "rstar = [0.295, 1.22, 0.73, 0.71, 0.571699, \n",
    "         0.492279, 0.42, 0.66, 0.66, 0.66]\n",
    "rstar_err = [0.020, 0.02, 0.03, 0.03, 0.02, \n",
    "             0.03, 0.01, 0.02, 0.02, 0.02]\n",
    "\n",
    "table = Table([epic, per, rp, t0, inc, ecc, w, a, mstar, mstar_err, rstar, rstar_err], \n",
    "              names=\"EPIC per rp t0 inc ecc w a mstar mstar_err rstar rstar_err\".split())"
   ]
  },
  {
   "cell_type": "code",
   "execution_count": 71,
   "metadata": {},
   "outputs": [],
   "source": [
    "# for i in range(len(table)):\n",
    "#     star = everest.Everest(table['EPIC'][i])\n",
    "#     np.save(\"data/{0}\".format(table['EPIC'][i]), np.vstack([star.time, star.flux]))"
   ]
  },
  {
   "cell_type": "code",
   "execution_count": 72,
   "metadata": {},
   "outputs": [
    {
     "name": "stdout",
     "output_type": "stream",
     "text": [
      "WARNING [astropy._showwarning()]: AstropyDeprecationWarning: data/zeit.csv already exists. Automatically overwriting ASCII files is deprecated. Use the argument 'overwrite=True' in the future.\n"
     ]
    },
    {
     "name": "stderr",
     "output_type": "stream",
     "text": [
      "WARNING: AstropyDeprecationWarning: data/zeit.csv already exists. Automatically overwriting ASCII files is deprecated. Use the argument 'overwrite=True' in the future. [astropy.io.ascii.ui]\n"
     ]
    }
   ],
   "source": [
    "table.write('data/zeit.csv')"
   ]
  },
  {
   "cell_type": "code",
   "execution_count": null,
   "metadata": {},
   "outputs": [],
   "source": [
    "table"
   ]
  },
  {
   "cell_type": "code",
   "execution_count": 41,
   "metadata": {},
   "outputs": [
    {
     "name": "stdout",
     "output_type": "stream",
     "text": [
      "WARNING [astropy._showwarning()]: W27: data/dressing2013_stars.vot:58:2: W27: COOSYS deprecated in VOTable 1.2\n",
      "WARNING [astropy._showwarning()]: W03: data/dressing2013_stars.vot:83:4: W03: Implicitly generating an ID from a name 'R*' -> 'R_'\n",
      "WARNING [astropy._showwarning()]: W03: data/dressing2013_stars.vot:86:4: W03: Implicitly generating an ID from a name 'E_R*' -> 'E_R_'\n",
      "WARNING [astropy._showwarning()]: W03: data/dressing2013_stars.vot:89:4: W03: Implicitly generating an ID from a name 'e_R*' -> 'e_R_'\n",
      "WARNING [astropy._showwarning()]: W03: data/dressing2013_stars.vot:92:4: W03: Implicitly generating an ID from a name 'M*' -> 'M_'\n",
      "WARNING [astropy._showwarning()]: W03: data/dressing2013_stars.vot:95:4: W03: Implicitly generating an ID from a name 'E_M*' -> 'E_M_'\n",
      "WARNING [astropy._showwarning()]: W03: data/dressing2013_stars.vot:98:4: W03: Implicitly generating an ID from a name 'e_M*' -> 'e_M_'\n",
      "WARNING [astropy._showwarning()]: W50: data/dressing2013_stars.vot:101:4: W50: Invalid unit string '[cm/s2]'\n",
      "WARNING [astropy._showwarning()]: W50: data/dressing2013_stars.vot:104:4: W50: Invalid unit string '[cm/s2]'\n",
      "WARNING [astropy._showwarning()]: W50: data/dressing2013_stars.vot:107:4: W50: Invalid unit string '[cm/s2]'\n",
      "WARNING [astropy._showwarning()]: W03: data/dressing2013_stars.vot:110:4: W03: Implicitly generating an ID from a name 'Fe/H' -> 'Fe_H'\n",
      "WARNING [astropy._showwarning()]: W50: data/dressing2013_stars.vot:110:4: W50: Invalid unit string '[Sun]'\n",
      "WARNING [astropy._showwarning()]: W03: data/dressing2013_stars.vot:113:4: W03: Implicitly generating an ID from a name 'E_Fe/H' -> 'E_Fe_H'\n",
      "WARNING [astropy._showwarning()]: W50: data/dressing2013_stars.vot:113:4: W50: Invalid unit string '[Sun]'\n",
      "WARNING [astropy._showwarning()]: W03: data/dressing2013_stars.vot:116:4: W03: Implicitly generating an ID from a name 'e_Fe/H' -> 'e_Fe_H'\n",
      "WARNING [astropy._showwarning()]: W50: data/dressing2013_stars.vot:116:4: W50: Invalid unit string '[Sun]'\n"
     ]
    },
    {
     "name": "stderr",
     "output_type": "stream",
     "text": [
      "WARNING: W27: data/dressing2013_stars.vot:58:2: W27: COOSYS deprecated in VOTable 1.2 [astropy.io.votable.tree]\n",
      "WARNING: W03: data/dressing2013_stars.vot:83:4: W03: Implicitly generating an ID from a name 'R*' -> 'R_' [astropy.io.votable.xmlutil]\n",
      "WARNING: W03: data/dressing2013_stars.vot:86:4: W03: Implicitly generating an ID from a name 'E_R*' -> 'E_R_' [astropy.io.votable.xmlutil]\n",
      "WARNING: W03: data/dressing2013_stars.vot:89:4: W03: Implicitly generating an ID from a name 'e_R*' -> 'e_R_' [astropy.io.votable.xmlutil]\n",
      "WARNING: W03: data/dressing2013_stars.vot:92:4: W03: Implicitly generating an ID from a name 'M*' -> 'M_' [astropy.io.votable.xmlutil]\n",
      "WARNING: W03: data/dressing2013_stars.vot:95:4: W03: Implicitly generating an ID from a name 'E_M*' -> 'E_M_' [astropy.io.votable.xmlutil]\n",
      "WARNING: W03: data/dressing2013_stars.vot:98:4: W03: Implicitly generating an ID from a name 'e_M*' -> 'e_M_' [astropy.io.votable.xmlutil]\n",
      "WARNING: W50: data/dressing2013_stars.vot:101:4: W50: Invalid unit string '[cm/s2]' [astropy.io.votable.tree]\n",
      "WARNING: W50: data/dressing2013_stars.vot:104:4: W50: Invalid unit string '[cm/s2]' [astropy.io.votable.tree]\n",
      "WARNING: W50: data/dressing2013_stars.vot:107:4: W50: Invalid unit string '[cm/s2]' [astropy.io.votable.tree]\n",
      "WARNING: W03: data/dressing2013_stars.vot:110:4: W03: Implicitly generating an ID from a name 'Fe/H' -> 'Fe_H' [astropy.io.votable.xmlutil]\n",
      "WARNING: W50: data/dressing2013_stars.vot:110:4: W50: Invalid unit string '[Sun]' [astropy.io.votable.tree]\n",
      "WARNING: W03: data/dressing2013_stars.vot:113:4: W03: Implicitly generating an ID from a name 'E_Fe/H' -> 'E_Fe_H' [astropy.io.votable.xmlutil]\n",
      "WARNING: W50: data/dressing2013_stars.vot:113:4: W50: Invalid unit string '[Sun]' [astropy.io.votable.tree]\n",
      "WARNING: W03: data/dressing2013_stars.vot:116:4: W03: Implicitly generating an ID from a name 'e_Fe/H' -> 'e_Fe_H' [astropy.io.votable.xmlutil]\n",
      "WARNING: W50: data/dressing2013_stars.vot:116:4: W50: Invalid unit string '[Sun]' [astropy.io.votable.tree]\n"
     ]
    },
    {
     "name": "stdout",
     "output_type": "stream",
     "text": [
      "WARNING [astropy._showwarning()]: W03: data/dressing2013_planets.vot:69:4: W03: Implicitly generating an ID from a name 'a/r*' -> 'a_r_'\n",
      "WARNING [astropy._showwarning()]: W03: data/dressing2013_planets.vot:72:4: W03: Implicitly generating an ID from a name 'rp/r*' -> 'rp_r_'\n",
      "WARNING [astropy._showwarning()]: W50: data/dressing2013_planets.vot:87:4: W50: Invalid unit string 'Earth'\n",
      "WARNING [astropy._showwarning()]: W50: data/dressing2013_planets.vot:90:4: W50: Invalid unit string 'Earth'\n",
      "WARNING [astropy._showwarning()]: W50: data/dressing2013_planets.vot:93:4: W50: Invalid unit string 'Earth'\n",
      "WARNING [astropy._showwarning()]: W03: data/dressing2013_planets.vot:99:4: W03: Implicitly generating an ID from a name 'R*' -> 'R_'\n"
     ]
    },
    {
     "name": "stderr",
     "output_type": "stream",
     "text": [
      "WARNING: W03: data/dressing2013_planets.vot:69:4: W03: Implicitly generating an ID from a name 'a/r*' -> 'a_r_' [astropy.io.votable.xmlutil]\n",
      "WARNING: W03: data/dressing2013_planets.vot:72:4: W03: Implicitly generating an ID from a name 'rp/r*' -> 'rp_r_' [astropy.io.votable.xmlutil]\n",
      "WARNING: W50: data/dressing2013_planets.vot:87:4: W50: Invalid unit string 'Earth' [astropy.io.votable.tree]\n",
      "WARNING: W50: data/dressing2013_planets.vot:90:4: W50: Invalid unit string 'Earth' [astropy.io.votable.tree]\n",
      "WARNING: W50: data/dressing2013_planets.vot:93:4: W50: Invalid unit string 'Earth' [astropy.io.votable.tree]\n",
      "WARNING: W03: data/dressing2013_planets.vot:99:4: W03: Implicitly generating an ID from a name 'R*' -> 'R_' [astropy.io.votable.xmlutil]\n"
     ]
    }
   ],
   "source": [
    "dressing_stars = Table.read('data/dressing2013_stars.vot', format='votable')\n",
    "dressing_planets = Table.read('data/dressing2013_planets.vot', format='votable')"
   ]
  },
  {
   "cell_type": "code",
   "execution_count": 44,
   "metadata": {},
   "outputs": [
    {
     "name": "stdout",
     "output_type": "stream",
     "text": [
      "WARNING [astropy._showwarning()]: MergeConflictWarning: In merged column 'KIC' the 'description' attribute does not match (Kepler Input Catalog ID (V/133) != Kepler identifier (V/133)).  Using Kepler identifier (V/133) for merged output\n",
      "WARNING [astropy._showwarning()]: MergeConflictWarning: Cannot merge meta key 'name' types <class 'str'> and <class 'str'>, choosing name='J/ApJ/767/95/table2'\n",
      "WARNING [astropy._showwarning()]: MergeConflictWarning: Cannot merge meta key 'ID' types <class 'str'> and <class 'str'>, choosing ID='J_ApJ_767_95_table2'\n",
      "WARNING [astropy._showwarning()]: MergeConflictWarning: Cannot merge meta key 'description' types <class 'str'> and <class 'str'>, choosing description='Revised properties for planet candidates orbiting small star'\n"
     ]
    },
    {
     "name": "stderr",
     "output_type": "stream",
     "text": [
      "WARNING: MergeConflictWarning: In merged column 'KIC' the 'description' attribute does not match (Kepler Input Catalog ID (V/133) != Kepler identifier (V/133)).  Using Kepler identifier (V/133) for merged output [astropy.utils.metadata]\n",
      "WARNING: MergeConflictWarning: Cannot merge meta key 'name' types <class 'str'> and <class 'str'>, choosing name='J/ApJ/767/95/table2' [astropy.utils.metadata]\n",
      "WARNING: MergeConflictWarning: Cannot merge meta key 'ID' types <class 'str'> and <class 'str'>, choosing ID='J_ApJ_767_95_table2' [astropy.utils.metadata]\n",
      "WARNING: MergeConflictWarning: Cannot merge meta key 'description' types <class 'str'> and <class 'str'>, choosing description='Revised properties for planet candidates orbiting small star' [astropy.utils.metadata]\n"
     ]
    }
   ],
   "source": [
    "from astropy.table import join\n",
    "\n",
    "dressing = join(dressing_stars, dressing_planets, keys='KIC')"
   ]
  },
  {
   "cell_type": "code",
   "execution_count": 51,
   "metadata": {},
   "outputs": [],
   "source": [
    "dressing.write('data/dressing_joined.csv')"
   ]
  },
  {
   "cell_type": "code",
   "execution_count": 65,
   "metadata": {},
   "outputs": [
    {
     "data": {
      "text/plain": [
       "<matplotlib.legend.Legend at 0x1152ea898>"
      ]
     },
     "execution_count": 65,
     "metadata": {},
     "output_type": "execute_result"
    },
    {
     "name": "stdout",
     "output_type": "stream",
     "text": [
      "DEBUG [matplotlib.axes._base._update_title_position()]: update_title_pos\n",
      "DEBUG [matplotlib.axes._base._update_title_position()]: update_title_pos\n",
      "DEBUG [matplotlib.axes._base._update_title_position()]: update_title_pos\n",
      "DEBUG [matplotlib.axes._base._update_title_position()]: update_title_pos\n",
      "DEBUG [matplotlib.axes._base._update_title_position()]: update_title_pos\n"
     ]
    },
    {
     "data": {
      "image/png": "[encoded data removed]",
      "text/plain": [
       "<Figure size 432x288 with 1 Axes>"
      ]
     },
     "metadata": {},
     "output_type": "display_data"
    }
   ],
   "source": [
    "plt.errorbar(table['mstar'], table['rp']*(table['rstar']*R_sun)/R_earth, xerr=table['mstar_err'], \n",
    "             fmt='o', color='r', ecolor='r', label='ZEIT')\n",
    "\n",
    "plt.errorbar(dressing[\"M_\"], dressing['Rp'], xerr=dressing['E_M_'], yerr=dressing['e_Rp'], \n",
    "             fmt='.', color='k', ecolor='gray', label='Dressing & Charbonneau 2013')\n",
    "plt.ylim([0, 5])\n",
    "plt.xlim([0.2, 0.65])\n",
    "plt.xlabel('M$_\\star$')\n",
    "plt.ylabel('R$_p$ [R$_\\oplus$]')\n",
    "plt.legend()"
   ]
  },
  {
   "cell_type": "code",
   "execution_count": null,
   "metadata": {},
   "outputs": [],
   "source": []
  }
 ],
 "metadata": {
  "kernelspec": {
   "display_name": "Python 3",
   "language": "python",
   "name": "python3"
  },
  "language_info": {
   "codemirror_mode": {
    "name": "ipython",
    "version": 3
   },
   "file_extension": ".py",
   "mimetype": "text/x-python",
   "name": "python",
   "nbconvert_exporter": "python",
   "pygments_lexer": "ipython3",
   "version": "3.5.4"
  }
 },
 "nbformat": 4,
 "nbformat_minor": 2
}
