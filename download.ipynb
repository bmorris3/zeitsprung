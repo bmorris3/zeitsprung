{
 "cells": [
  {
   "cell_type": "code",
   "execution_count": 58,
   "metadata": {},
   "outputs": [
    {
     "name": "stdout",
     "output_type": "stream",
     "text": [
      "DEBUG [matplotlib.pyplot.switch_backend()]: Loaded backend module://ipykernel.pylab.backend_inline version unknown.\n"
     ]
    }
   ],
   "source": [
    "%matplotlib inline\n",
    "import everest\n",
    "import matplotlib.pyplot as plt\n",
    "import numpy as np\n",
    "from astropy.table import Table\n",
    "from astropy.constants import R_sun, R_earth"
   ]
  },
  {
   "cell_type": "code",
   "execution_count": 68,
   "metadata": {},
   "outputs": [
    {
     "data": {
      "text/plain": [
       "20.225007192640714"
      ]
     },
     "execution_count": 68,
     "metadata": {},
     "output_type": "execute_result"
    }
   ],
   "source": [
    "b = 0.60\n",
    "inc = 88.3\n",
    "\n",
    "b / np.cos(np.radians(inc))"
   ]
  },
  {
   "cell_type": "code",
   "execution_count": 69,
   "metadata": {},
   "outputs": [],
   "source": [
    "# Mann 2016: 210490365\n",
    "# Mann 2017: 211990866, 211913977, 211970147, 211822797, 211969807, 211901114 (not in NEA?), 211916756\n",
    "# Mann 2018: 247589423\n",
    "# Rizzuto 2018: 211964830 (C16 not in EVEREST)\n",
    "\n",
    "epic= [210490365, 211990866, 211913977, 211970147, 211822797,\n",
    "       211969807, 211916756, 247589423, 247589423, 247589423]\n",
    "per = [3.484552, 1.673833, 14.677286, 9.915615, 21.169619, \n",
    "       1.974238, 10.134016, 7.975292, 17.307137, 25.575065]\n",
    "rp  = [0.1065, 0.0269, 0.026134, 0.0170, 0.0336, \n",
    "       0.0365, 0.08530, 0.0137, 0.0401, 0.0201]\n",
    "t0  = [2457062.57935, 2457140.72062, 2457152.68135, 2457139.65518, 2457123.23803, \n",
    "       2457140.38117, 2457150.87837, 2457817.75631, 2457812.71770, 2457780.81164]\n",
    "inc = [88.3, 85.1, 89.4, 89.0, 89.73, \n",
    "       88.00, 89.4, 89.3, 89.6, 89.4]\n",
    "ecc = [0.27, 0.24, 0.10, 0.10, 0.18, \n",
    "       0.09, 0.16, 0.10, 0.13, 0.14]\n",
    "w   = [62.0, 29, 0.00, -1.00, 0.0, \n",
    "       6.24, -2.00, 12, 24, 2]\n",
    "a   = [20.225, 6.2, 32.5, 25.3, 46.7, \n",
    "       11.0, 18.27, 23.1, 39.0, 50.7]\n",
    "mstar = [0.294, 1.23, 0.80, 0.77, 0.663459,\n",
    "         0.426533, 0.44, 0.74, 0.74, 0.74]\n",
    "mstar_err = [0.021, 0.02, 0.06, 0.06, 0.066346,\n",
    "             0.06, 0.01, 0.02, 0.02, 0.02]\n",
    "rstar = [0.295, 1.22, 0.73, 0.71, 0.571699, \n",
    "         0.492279, 0.42, 0.66, 0.66, 0.66]\n",
    "rstar_err = [0.020, 0.02, 0.03, 0.03, 0.02, \n",
    "             0.03, 0.01, 0.02, 0.02, 0.02]\n",
    "\n",
    "table = Table([epic, per, rp, t0, inc, ecc, w, a, mstar, mstar_err, rstar, rstar_err], \n",
    "              names=\"EPIC per rp t0 inc ecc w a mstar mstar_err rstar rstar_err\".split())"
   ]
  },
  {
   "cell_type": "code",
   "execution_count": 71,
   "metadata": {},
   "outputs": [],
   "source": [
    "# for i in range(len(table)):\n",
    "#     star = everest.Everest(table['EPIC'][i])\n",
    "#     np.save(\"data/{0}\".format(table['EPIC'][i]), np.vstack([star.time, star.flux]))"
   ]
  },
  {
   "cell_type": "code",
   "execution_count": 72,
   "metadata": {},
   "outputs": [
    {
     "name": "stdout",
     "output_type": "stream",
     "text": [
      "WARNING [astropy._showwarning()]: AstropyDeprecationWarning: data/zeit.csv already exists. Automatically overwriting ASCII files is deprecated. Use the argument 'overwrite=True' in the future.\n"
     ]
    },
    {
     "name": "stderr",
     "output_type": "stream",
     "text": [
      "WARNING: AstropyDeprecationWarning: data/zeit.csv already exists. Automatically overwriting ASCII files is deprecated. Use the argument 'overwrite=True' in the future. [astropy.io.ascii.ui]\n"
     ]
    }
   ],
   "source": [
    "table.write('data/zeit.csv')"
   ]
  },
  {
   "cell_type": "code",
   "execution_count": null,
   "metadata": {},
   "outputs": [],
   "source": [
    "table"
   ]
  },
  {
   "cell_type": "code",
   "execution_count": 41,
   "metadata": {},
   "outputs": [
    {
     "name": "stdout",
     "output_type": "stream",
     "text": [
      "WARNING [astropy._showwarning()]: W27: data/dressing2013_stars.vot:58:2: W27: COOSYS deprecated in VOTable 1.2\n",
      "WARNING [astropy._showwarning()]: W03: data/dressing2013_stars.vot:83:4: W03: Implicitly generating an ID from a name 'R*' -> 'R_'\n",
      "WARNING [astropy._showwarning()]: W03: data/dressing2013_stars.vot:86:4: W03: Implicitly generating an ID from a name 'E_R*' -> 'E_R_'\n",
      "WARNING [astropy._showwarning()]: W03: data/dressing2013_stars.vot:89:4: W03: Implicitly generating an ID from a name 'e_R*' -> 'e_R_'\n",
      "WARNING [astropy._showwarning()]: W03: data/dressing2013_stars.vot:92:4: W03: Implicitly generating an ID from a name 'M*' -> 'M_'\n",
      "WARNING [astropy._showwarning()]: W03: data/dressing2013_stars.vot:95:4: W03: Implicitly generating an ID from a name 'E_M*' -> 'E_M_'\n",
      "WARNING [astropy._showwarning()]: W03: data/dressing2013_stars.vot:98:4: W03: Implicitly generating an ID from a name 'e_M*' -> 'e_M_'\n",
      "WARNING [astropy._showwarning()]: W50: data/dressing2013_stars.vot:101:4: W50: Invalid unit string '[cm/s2]'\n",
      "WARNING [astropy._showwarning()]: W50: data/dressing2013_stars.vot:104:4: W50: Invalid unit string '[cm/s2]'\n",
      "WARNING [astropy._showwarning()]: W50: data/dressing2013_stars.vot:107:4: W50: Invalid unit string '[cm/s2]'\n",
      "WARNING [astropy._showwarning()]: W03: data/dressing2013_stars.vot:110:4: W03: Implicitly generating an ID from a name 'Fe/H' -> 'Fe_H'\n",
      "WARNING [astropy._showwarning()]: W50: data/dressing2013_stars.vot:110:4: W50: Invalid unit string '[Sun]'\n",
      "WARNING [astropy._showwarning()]: W03: data/dressing2013_stars.vot:113:4: W03: Implicitly generating an ID from a name 'E_Fe/H' -> 'E_Fe_H'\n",
      "WARNING [astropy._showwarning()]: W50: data/dressing2013_stars.vot:113:4: W50: Invalid unit string '[Sun]'\n",
      "WARNING [astropy._showwarning()]: W03: data/dressing2013_stars.vot:116:4: W03: Implicitly generating an ID from a name 'e_Fe/H' -> 'e_Fe_H'\n",
      "WARNING [astropy._showwarning()]: W50: data/dressing2013_stars.vot:116:4: W50: Invalid unit string '[Sun]'\n"
     ]
    },
    {
     "name": "stderr",
     "output_type": "stream",
     "text": [
      "WARNING: W27: data/dressing2013_stars.vot:58:2: W27: COOSYS deprecated in VOTable 1.2 [astropy.io.votable.tree]\n",
      "WARNING: W03: data/dressing2013_stars.vot:83:4: W03: Implicitly generating an ID from a name 'R*' -> 'R_' [astropy.io.votable.xmlutil]\n",
      "WARNING: W03: data/dressing2013_stars.vot:86:4: W03: Implicitly generating an ID from a name 'E_R*' -> 'E_R_' [astropy.io.votable.xmlutil]\n",
      "WARNING: W03: data/dressing2013_stars.vot:89:4: W03: Implicitly generating an ID from a name 'e_R*' -> 'e_R_' [astropy.io.votable.xmlutil]\n",
      "WARNING: W03: data/dressing2013_stars.vot:92:4: W03: Implicitly generating an ID from a name 'M*' -> 'M_' [astropy.io.votable.xmlutil]\n",
      "WARNING: W03: data/dressing2013_stars.vot:95:4: W03: Implicitly generating an ID from a name 'E_M*' -> 'E_M_' [astropy.io.votable.xmlutil]\n",
      "WARNING: W03: data/dressing2013_stars.vot:98:4: W03: Implicitly generating an ID from a name 'e_M*' -> 'e_M_' [astropy.io.votable.xmlutil]\n",
      "WARNING: W50: data/dressing2013_stars.vot:101:4: W50: Invalid unit string '[cm/s2]' [astropy.io.votable.tree]\n",
      "WARNING: W50: data/dressing2013_stars.vot:104:4: W50: Invalid unit string '[cm/s2]' [astropy.io.votable.tree]\n",
      "WARNING: W50: data/dressing2013_stars.vot:107:4: W50: Invalid unit string '[cm/s2]' [astropy.io.votable.tree]\n",
      "WARNING: W03: data/dressing2013_stars.vot:110:4: W03: Implicitly generating an ID from a name 'Fe/H' -> 'Fe_H' [astropy.io.votable.xmlutil]\n",
      "WARNING: W50: data/dressing2013_stars.vot:110:4: W50: Invalid unit string '[Sun]' [astropy.io.votable.tree]\n",
      "WARNING: W03: data/dressing2013_stars.vot:113:4: W03: Implicitly generating an ID from a name 'E_Fe/H' -> 'E_Fe_H' [astropy.io.votable.xmlutil]\n",
      "WARNING: W50: data/dressing2013_stars.vot:113:4: W50: Invalid unit string '[Sun]' [astropy.io.votable.tree]\n",
      "WARNING: W03: data/dressing2013_stars.vot:116:4: W03: Implicitly generating an ID from a name 'e_Fe/H' -> 'e_Fe_H' [astropy.io.votable.xmlutil]\n",
      "WARNING: W50: data/dressing2013_stars.vot:116:4: W50: Invalid unit string '[Sun]' [astropy.io.votable.tree]\n"
     ]
    },
    {
     "name": "stdout",
     "output_type": "stream",
     "text": [
      "WARNING [astropy._showwarning()]: W03: data/dressing2013_planets.vot:69:4: W03: Implicitly generating an ID from a name 'a/r*' -> 'a_r_'\n",
      "WARNING [astropy._showwarning()]: W03: data/dressing2013_planets.vot:72:4: W03: Implicitly generating an ID from a name 'rp/r*' -> 'rp_r_'\n",
      "WARNING [astropy._showwarning()]: W50: data/dressing2013_planets.vot:87:4: W50: Invalid unit string 'Earth'\n",
      "WARNING [astropy._showwarning()]: W50: data/dressing2013_planets.vot:90:4: W50: Invalid unit string 'Earth'\n",
      "WARNING [astropy._showwarning()]: W50: data/dressing2013_planets.vot:93:4: W50: Invalid unit string 'Earth'\n",
      "WARNING [astropy._showwarning()]: W03: data/dressing2013_planets.vot:99:4: W03: Implicitly generating an ID from a name 'R*' -> 'R_'\n"
     ]
    },
    {
     "name": "stderr",
     "output_type": "stream",
     "text": [
      "WARNING: W03: data/dressing2013_planets.vot:69:4: W03: Implicitly generating an ID from a name 'a/r*' -> 'a_r_' [astropy.io.votable.xmlutil]\n",
      "WARNING: W03: data/dressing2013_planets.vot:72:4: W03: Implicitly generating an ID from a name 'rp/r*' -> 'rp_r_' [astropy.io.votable.xmlutil]\n",
      "WARNING: W50: data/dressing2013_planets.vot:87:4: W50: Invalid unit string 'Earth' [astropy.io.votable.tree]\n",
      "WARNING: W50: data/dressing2013_planets.vot:90:4: W50: Invalid unit string 'Earth' [astropy.io.votable.tree]\n",
      "WARNING: W50: data/dressing2013_planets.vot:93:4: W50: Invalid unit string 'Earth' [astropy.io.votable.tree]\n",
      "WARNING: W03: data/dressing2013_planets.vot:99:4: W03: Implicitly generating an ID from a name 'R*' -> 'R_' [astropy.io.votable.xmlutil]\n"
     ]
    }
   ],
   "source": [
    "dressing_stars = Table.read('data/dressing2013_stars.vot', format='votable')\n",
    "dressing_planets = Table.read('data/dressing2013_planets.vot', format='votable')"
   ]
  },
  {
   "cell_type": "code",
   "execution_count": 44,
   "metadata": {},
   "outputs": [
    {
     "name": "stdout",
     "output_type": "stream",
     "text": [
      "WARNING [astropy._showwarning()]: MergeConflictWarning: In merged column 'KIC' the 'description' attribute does not match (Kepler Input Catalog ID (V/133) != Kepler identifier (V/133)).  Using Kepler identifier (V/133) for merged output\n",
      "WARNING [astropy._showwarning()]: MergeConflictWarning: Cannot merge meta key 'name' types <class 'str'> and <class 'str'>, choosing name='J/ApJ/767/95/table2'\n",
      "WARNING [astropy._showwarning()]: MergeConflictWarning: Cannot merge meta key 'ID' types <class 'str'> and <class 'str'>, choosing ID='J_ApJ_767_95_table2'\n",
      "WARNING [astropy._showwarning()]: MergeConflictWarning: Cannot merge meta key 'description' types <class 'str'> and <class 'str'>, choosing description='Revised properties for planet candidates orbiting small star'\n"
     ]
    },
    {
     "name": "stderr",
     "output_type": "stream",
     "text": [
      "WARNING: MergeConflictWarning: In merged column 'KIC' the 'description' attribute does not match (Kepler Input Catalog ID (V/133) != Kepler identifier (V/133)).  Using Kepler identifier (V/133) for merged output [astropy.utils.metadata]\n",
      "WARNING: MergeConflictWarning: Cannot merge meta key 'name' types <class 'str'> and <class 'str'>, choosing name='J/ApJ/767/95/table2' [astropy.utils.metadata]\n",
      "WARNING: MergeConflictWarning: Cannot merge meta key 'ID' types <class 'str'> and <class 'str'>, choosing ID='J_ApJ_767_95_table2' [astropy.utils.metadata]\n",
      "WARNING: MergeConflictWarning: Cannot merge meta key 'description' types <class 'str'> and <class 'str'>, choosing description='Revised properties for planet candidates orbiting small star' [astropy.utils.metadata]\n"
     ]
    }
   ],
   "source": [
    "from astropy.table import join\n",
    "\n",
    "dressing = join(dressing_stars, dressing_planets, keys='KIC')"
   ]
  },
  {
   "cell_type": "code",
   "execution_count": 51,
   "metadata": {},
   "outputs": [],
   "source": [
    "dressing.write('data/dressing_joined.csv')"
   ]
  },
  {
   "cell_type": "code",
   "execution_count": 161,
   "metadata": {},
   "outputs": [
    {
     "name": "stdout",
     "output_type": "stream",
     "text": [
      "[[0.31], [0.95]]\n",
      "[[0.2], [0.2]]\n",
      "DEBUG [matplotlib.axes._base._update_title_position()]: update_title_pos\n",
      "DEBUG [matplotlib.backends.backend_pdf.fontName()]: Assigning font /b'F1' = '/Users/bmmorris/anaconda/lib/python3.5/site-packages/matplotlib/mpl-data/fonts/ttf/DejaVuSans.ttf'\n",
      "DEBUG [matplotlib.backends.backend_pdf.writeFonts()]: Embedding font /Users/bmmorris/anaconda/lib/python3.5/site-packages/matplotlib/mpl-data/fonts/ttf/DejaVuSans.ttf.\n",
      "DEBUG [matplotlib.backends.backend_pdf.writeFonts()]: Writing TrueType font.\n",
      "DEBUG [matplotlib.axes._base._update_title_position()]: update_title_pos\n",
      "DEBUG [matplotlib.axes._base._update_title_position()]: update_title_pos\n",
      "DEBUG [matplotlib.axes._base._update_title_position()]: update_title_pos\n",
      "DEBUG [matplotlib.backends.backend_pdf.fontName()]: Assigning font /b'F1' = '/Users/bmmorris/anaconda/lib/python3.5/site-packages/matplotlib/mpl-data/fonts/ttf/DejaVuSans.ttf'\n",
      "DEBUG [matplotlib.backends.backend_pdf.writeFonts()]: Embedding font /Users/bmmorris/anaconda/lib/python3.5/site-packages/matplotlib/mpl-data/fonts/ttf/DejaVuSans.ttf.\n",
      "DEBUG [matplotlib.backends.backend_pdf.writeFonts()]: Writing TrueType font.\n",
      "DEBUG [matplotlib.axes._base._update_title_position()]: update_title_pos\n",
      "DEBUG [matplotlib.axes._base._update_title_position()]: update_title_pos\n",
      "DEBUG [matplotlib.axes._base._update_title_position()]: update_title_pos\n",
      "DEBUG [matplotlib.axes._base._update_title_position()]: update_title_pos\n",
      "DEBUG [matplotlib.axes._base._update_title_position()]: update_title_pos\n"
     ]
    },
    {
     "data": {
      "image/png": "[encoded data removed]",
      "text/plain": [
       "<Figure size 288x216 with 1 Axes>"
      ]
     },
     "metadata": {},
     "output_type": "display_data"
    }
   ],
   "source": [
    "plt.figure(figsize=(4, 3))\n",
    "plt.errorbar(dressing[\"M_\"], dressing['Rp'], xerr=dressing['E_M_'], yerr=dressing['e_Rp'], \n",
    "             fmt='.', color='k', ecolor='gray', label='Dressing & Charbonneau (2013)')\n",
    "\n",
    "#yerrs = [[[0.31, 0.95]], [[0.2, 0.2]]]\n",
    "yerrs = [[[0.31], [0.95]], [[0.2], [0.2]]]\n",
    "label = None\n",
    "for ind, i in enumerate([0, 6]):\n",
    "    print(yerrs[ind])\n",
    "    if ind == 1: \n",
    "        label = 'Praesepe'\n",
    "    plt.errorbar(table['mstar'][i], table['rp'][i]*(table['rstar'][i]*R_sun)/R_earth, \n",
    "                 xerr=table['mstar_err'][i], yerr=yerrs[ind],\n",
    "                 fmt='o', color='r', ecolor='r', label=label)\n",
    "\n",
    "plt.ylim([0, 5])\n",
    "plt.xlim([0.15, 0.65])\n",
    "fs = 15\n",
    "plt.xlabel('$\\\\rm M_s$ [M$_\\oplus$]', fontsize=fs)\n",
    "plt.ylabel('$\\\\rm R_p$ [R$_\\oplus$]', fontsize=fs)\n",
    "plt.legend(loc='upper center', bbox_to_anchor=(0.5, 1.3)).get_frame().set_alpha(0)\n",
    "for s in ['right', 'top']:\n",
    "    plt.gca().spines[s].set_visible(False)\n",
    "plt.savefig('plots/motivation.pdf', bbox_inches='tight')"
   ]
  },
  {
   "cell_type": "code",
   "execution_count": 83,
   "metadata": {},
   "outputs": [
    {
     "name": "stdout",
     "output_type": "stream",
     "text": [
      "Query finished.\n",
      "Query finished.\n",
      "Query finished.\n",
      "Query finished.\n",
      "Query finished.\n",
      "Query finished.\n",
      "Query finished.\n",
      "Query finished.\n",
      "Query finished.\n",
      "Query finished.\n",
      "Query finished.\n",
      "Query finished.\n",
      "Query finished.\n",
      "Query finished.\n",
      "Query finished.\n",
      "Query finished.\n",
      "Query finished.\n",
      "Query finished.\n",
      "Query finished.\n",
      "Query finished.\n",
      "Query finished.\n",
      "Query finished.\n",
      "Query finished.\n",
      "Query finished.\n",
      "Query finished.\n",
      "Query finished.\n",
      "Query finished.\n",
      "Query finished.\n",
      "Query finished.\n",
      "Query finished.\n",
      "Query finished.\n",
      "Query finished.\n",
      "Query finished.\n",
      "Query finished.\n",
      "Query finished.\n",
      "Query finished.\n",
      "Query finished.\n",
      "Query finished.\n",
      "Query finished.\n",
      "Query finished.\n",
      "Query finished.\n",
      "Query finished.\n",
      "Query finished.\n",
      "Query finished.\n",
      "Query finished.\n",
      "Query finished.\n",
      "Query finished.\n",
      "Query finished.\n",
      "Query finished.\n",
      "Query finished.\n",
      "Query finished.\n",
      "Query finished.\n",
      "Query finished.\n",
      "Query finished.\n",
      "Query finished.\n",
      "Query finished.\n",
      "Query finished.\n",
      "Query finished.\n",
      "Query finished.\n",
      "Query finished.\n",
      "Query finished.\n",
      "Query finished.\n",
      "Query finished.\n",
      "Query finished.\n",
      "Query finished.\n",
      "Query finished.\n",
      "Query finished.\n",
      "Query finished.\n",
      "Query finished.\n",
      "Query finished.\n",
      "Query finished.\n",
      "Query finished.\n",
      "Query finished.\n",
      "Query finished.\n",
      "Query finished.\n",
      "Query finished.\n",
      "Query finished.\n",
      "Query finished.\n",
      "Query finished.\n",
      "Query finished.\n",
      "Query finished.\n",
      "Query finished.\n",
      "Query finished.\n",
      "Query finished.\n",
      "Query finished.\n",
      "Query finished.\n",
      "Query finished.\n",
      "Query finished.\n",
      "Query finished.\n",
      "Query finished.\n",
      "Query finished.\n",
      "Query finished.\n",
      "Query finished.\n",
      "Query finished.\n",
      "Query finished.\n"
     ]
    }
   ],
   "source": [
    "from astroquery.gaia import Gaia\n",
    "from astropy.coordinates import SkyCoord\n",
    "import astropy.units as u\n",
    "coord = SkyCoord(ra=dressing['_RA'], dec=dressing['_DE'], unit=(u.degree, u.degree), frame='icrs')\n",
    "width = u.Quantity(0.1, u.arcmin)\n",
    "height = u.Quantity(0.1, u.arcmin)\n",
    "\n",
    "rows = []\n",
    "for i in range(len(dressing)): \n",
    "    if dressing['M_'][i] < 0.6:\n",
    "        r = Gaia.query_object_async(coordinate=coord[i], width=width, height=height)\n",
    "        min_dist = np.argmin(r['dist'])\n",
    "        rows.append(r[min_dist])"
   ]
  },
  {
   "cell_type": "code",
   "execution_count": 88,
   "metadata": {},
   "outputs": [],
   "source": [
    "gaia_dressing = Table(rows=rows, names=rows[0].colnames)"
   ]
  },
  {
   "cell_type": "code",
   "execution_count": 108,
   "metadata": {},
   "outputs": [
    {
     "name": "stdout",
     "output_type": "stream",
     "text": [
      "WARNING [astropy._showwarning()]: W35: None:5:0: W35: 'value' attribute required for INFO elements\n",
      "WARNING [astropy._showwarning()]: W35: None:6:0: W35: 'value' attribute required for INFO elements\n",
      "WARNING [astropy._showwarning()]: W35: None:7:0: W35: 'value' attribute required for INFO elements\n",
      "WARNING [astropy._showwarning()]: W35: None:8:0: W35: 'value' attribute required for INFO elements\n",
      "WARNING [astropy._showwarning()]: W35: None:10:0: W35: 'value' attribute required for INFO elements\n",
      "WARNING [astropy._showwarning()]: W27: None:11:0: W27: COOSYS deprecated in VOTable 1.2\n",
      "WARNING [astropy._showwarning()]: W06: None:48:0: W06: Invalid UCD 'arith.ratio': Secondary word 'arith.ratio' is not valid as a primary word\n",
      "WARNING [astropy._showwarning()]: W50: None:51:0: W50: Invalid unit string 'mas.yr**-1'\n",
      "WARNING [astropy._showwarning()]: W50: None:54:0: W50: Invalid unit string 'mas.yr**-1'\n",
      "WARNING [astropy._showwarning()]: W50: None:57:0: W50: Invalid unit string 'mas.yr**-1'\n",
      "WARNING [astropy._showwarning()]: W50: None:60:0: W50: Invalid unit string 'mas.yr**-1'\n",
      "WARNING [astropy._showwarning()]: W50: None:123:0: W50: Invalid unit string 'mas**-2'\n",
      "WARNING [astropy._showwarning()]: W50: None:126:0: W50: Invalid unit string 'um**-1'\n",
      "WARNING [astropy._showwarning()]: W06: None:129:0: W06: Invalid UCD 'em.wavenumber;stat.error': Primary word 'stat.error' is not valid as a secondary word\n",
      "WARNING [astropy._showwarning()]: W50: None:129:0: W50: Invalid unit string 'um**-1'\n",
      "WARNING [astropy._showwarning()]: W06: None:141:0: W06: Invalid UCD 'pos.errorEllipse;stat.max': Secondary word 'pos.errorEllipse' is not valid as a primary word\n",
      "WARNING [astropy._showwarning()]: W50: None:156:0: W50: Invalid unit string ''electron'.s**-1'\n",
      "WARNING [astropy._showwarning()]: W50: None:159:0: W50: Invalid unit string ''electron'.s**-1'\n",
      "WARNING [astropy._showwarning()]: W06: None:162:0: W06: Invalid UCD 'arith.ratio': Secondary word 'arith.ratio' is not valid as a primary word\n",
      "WARNING [astropy._showwarning()]: W50: None:171:0: W50: Invalid unit string ''electron'.s**-1' (suppressing further warnings of this type...)\n",
      "WARNING [astropy._showwarning()]: W06: None:177:0: W06: Invalid UCD 'arith.ratio': Secondary word 'arith.ratio' is not valid as a primary word\n",
      "WARNING [astropy._showwarning()]: W06: None:192:0: W06: Invalid UCD 'arith.ratio': Secondary word 'arith.ratio' is not valid as a primary word\n",
      "WARNING [astropy._showwarning()]: W06: None:204:0: W06: Invalid UCD 'phot.color': Unknown word 'phot.color'\n",
      "WARNING [astropy._showwarning()]: W06: None:207:0: W06: Invalid UCD 'phot.color': Unknown word 'phot.color'\n",
      "WARNING [astropy._showwarning()]: W06: None:210:0: W06: Invalid UCD 'phot.color': Unknown word 'phot.color'\n",
      "WARNING [astropy._showwarning()]: W06: None:282:0: W06: Invalid UCD 'phys.size.radius;stat.error': Primary word 'stat.error' is not valid as a secondary word (suppressing further warnings of this type...)\n"
     ]
    },
    {
     "name": "stderr",
     "output_type": "stream",
     "text": [
      "WARNING: W35: None:5:0: W35: 'value' attribute required for INFO elements [astropy.io.votable.tree]\n",
      "WARNING: W35: None:6:0: W35: 'value' attribute required for INFO elements [astropy.io.votable.tree]\n",
      "WARNING: W35: None:7:0: W35: 'value' attribute required for INFO elements [astropy.io.votable.tree]\n",
      "WARNING: W35: None:8:0: W35: 'value' attribute required for INFO elements [astropy.io.votable.tree]\n",
      "WARNING: W35: None:10:0: W35: 'value' attribute required for INFO elements [astropy.io.votable.tree]\n",
      "WARNING: W27: None:11:0: W27: COOSYS deprecated in VOTable 1.2 [astropy.io.votable.tree]\n",
      "WARNING: W06: None:48:0: W06: Invalid UCD 'arith.ratio': Secondary word 'arith.ratio' is not valid as a primary word [astropy.io.votable.tree]\n",
      "WARNING: W50: None:51:0: W50: Invalid unit string 'mas.yr**-1' [astropy.io.votable.tree]\n",
      "WARNING: W50: None:54:0: W50: Invalid unit string 'mas.yr**-1' [astropy.io.votable.tree]\n",
      "WARNING: W50: None:57:0: W50: Invalid unit string 'mas.yr**-1' [astropy.io.votable.tree]\n",
      "WARNING: W50: None:60:0: W50: Invalid unit string 'mas.yr**-1' [astropy.io.votable.tree]\n",
      "WARNING: W50: None:123:0: W50: Invalid unit string 'mas**-2' [astropy.io.votable.tree]\n",
      "WARNING: W50: None:126:0: W50: Invalid unit string 'um**-1' [astropy.io.votable.tree]\n",
      "WARNING: W06: None:129:0: W06: Invalid UCD 'em.wavenumber;stat.error': Primary word 'stat.error' is not valid as a secondary word [astropy.io.votable.tree]\n",
      "WARNING: W50: None:129:0: W50: Invalid unit string 'um**-1' [astropy.io.votable.tree]\n",
      "WARNING: W06: None:141:0: W06: Invalid UCD 'pos.errorEllipse;stat.max': Secondary word 'pos.errorEllipse' is not valid as a primary word [astropy.io.votable.tree]\n",
      "WARNING: W50: None:156:0: W50: Invalid unit string ''electron'.s**-1' [astropy.io.votable.tree]\n",
      "WARNING: W50: None:159:0: W50: Invalid unit string ''electron'.s**-1' [astropy.io.votable.tree]\n",
      "WARNING: W06: None:162:0: W06: Invalid UCD 'arith.ratio': Secondary word 'arith.ratio' is not valid as a primary word [astropy.io.votable.tree]\n",
      "WARNING: W50: None:171:0: W50: Invalid unit string ''electron'.s**-1' (suppressing further warnings of this type...) [astropy.io.votable.tree]\n",
      "WARNING: W06: None:177:0: W06: Invalid UCD 'arith.ratio': Secondary word 'arith.ratio' is not valid as a primary word [astropy.io.votable.tree]\n",
      "WARNING: W06: None:192:0: W06: Invalid UCD 'arith.ratio': Secondary word 'arith.ratio' is not valid as a primary word [astropy.io.votable.tree]\n",
      "WARNING: W06: None:204:0: W06: Invalid UCD 'phot.color': Unknown word 'phot.color' [astropy.io.votable.tree]\n",
      "WARNING: W06: None:207:0: W06: Invalid UCD 'phot.color': Unknown word 'phot.color' [astropy.io.votable.tree]\n",
      "WARNING: W06: None:210:0: W06: Invalid UCD 'phot.color': Unknown word 'phot.color' [astropy.io.votable.tree]\n",
      "WARNING: W06: None:282:0: W06: Invalid UCD 'phys.size.radius;stat.error': Primary word 'stat.error' is not valid as a secondary word (suppressing further warnings of this type...) [astropy.io.votable.tree]\n"
     ]
    },
    {
     "name": "stdout",
     "output_type": "stream",
     "text": [
      "Query finished.\n",
      "Query finished.\n"
     ]
    },
    {
     "name": "stderr",
     "output_type": "stream",
     "text": [
      "/Users/bmmorris/anaconda/lib/python3.5/site-packages/numpy/ma/core.py:4089: UserWarning: Warning: converting a masked element to nan.\n",
      "  warnings.warn(\"Warning: converting a masked element to nan.\")\n"
     ]
    }
   ],
   "source": [
    "# coord = [SkyCoord.from_name(\"EPIC {0}\".format(kic)) for kic in [210490365, 211916756]]\n",
    "coord = SkyCoord(ra=['04h13m05.62s', '08h37m27.06s'], dec=['+15d14m51.9s', '+18d58m36.1s'], frame='icrs')\n",
    "width = u.Quantity(0.1, u.arcmin)\n",
    "height = u.Quantity(0.1, u.arcmin)\n",
    "\n",
    "rows = []\n",
    "for i in range(len(coord)): \n",
    "    r = Gaia.query_object_async(coordinate=coord[i], width=width, height=height)\n",
    "    min_dist = np.argmin(r['dist'])\n",
    "    rows.append(r[min_dist])\n",
    "gaia_zeit = Table(rows=rows, names=rows[0].colnames)"
   ]
  },
  {
   "cell_type": "code",
   "execution_count": 111,
   "metadata": {},
   "outputs": [],
   "source": [
    "dressing_g = gaia_dressing['phot_g_mean_mag']\n",
    "dressing_d_pc = 1/(gaia_dressing['parallax'] * 1e-3)\n",
    "dressing_G = dressing_g - 5 * (np.log10(dressing_d_pc) + 1)\n",
    "dressing_bp = gaia_dressing['phot_bp_mean_mag']\n",
    "dressing_rp = gaia_dressing['phot_rp_mean_mag']\n",
    "\n",
    "zeit_g = gaia_zeit['phot_g_mean_mag']\n",
    "zeit_d_pc = 1/(gaia_zeit['parallax'] * 1e-3)\n",
    "zeit_G = zeit_g - 5 * (np.log10(zeit_d_pc) + 1)\n",
    "zeit_bp = gaia_zeit['phot_bp_mean_mag']\n",
    "zeit_rp = gaia_zeit['phot_rp_mean_mag']"
   ]
  },
  {
   "cell_type": "code",
   "execution_count": 115,
   "metadata": {},
   "outputs": [
    {
     "name": "stdout",
     "output_type": "stream",
     "text": [
      "[-2.44294836 -2.37127796 -2.29960757 -2.22793717 -2.15626677 -2.08459638\n",
      " -2.01292598 -1.94125558 -1.86958519 -1.79791479 -1.72624439 -1.65457399\n",
      " -1.5829036  -1.5112332  -1.4395628  -1.36789241 -1.29622201 -1.22455161\n",
      " -1.15288122 -1.08121082 -1.00954042 -0.93787002 -0.86619963 -0.79452923\n",
      " -0.72285883 -0.65118844 -0.57951804 -0.50784764 -0.43617725 -0.36450685\n",
      " -0.29283645 -0.22116606 -0.14949566 -0.07782526 -0.00615486  0.06551553\n",
      "  0.13718593  0.20885633  0.28052672  0.35219712  0.42386752  0.49553791\n",
      "  0.56720831  0.63887871  0.7105491   0.7822195   0.8538899   0.9255603\n",
      "  0.99723069  1.06890109]\n",
      "DEBUG [matplotlib.axes._base._update_title_position()]: update_title_pos\n",
      "DEBUG [matplotlib.axes._base._update_title_position()]: update_title_pos\n",
      "DEBUG [matplotlib.axes._base._update_title_position()]: update_title_pos\n",
      "DEBUG [matplotlib.axes._base._update_title_position()]: update_title_pos\n"
     ]
    },
    {
     "data": {
      "image/png": "[encoded data removed]",
      "text/plain": [
       "<Figure size 432x288 with 1 Axes>"
      ]
     },
     "metadata": {},
     "output_type": "display_data"
    }
   ],
   "source": [
    "mask = ~np.isnan(dressing_bp) & ~np.isnan(dressing_rp) & ~np.isnan(dressing_G)\n",
    "poly = np.polyfit(dressing_bp[mask]-dressing_rp[mask], dressing_G[mask], 1)\n",
    "x = np.linspace(1.7, 3.0)\n",
    "fit = np.polyval(poly, x)\n",
    "\n",
    "plt.scatter(dressing_bp-dressing_rp, dressing_G, label='Dressing')\n",
    "\n",
    "plt.scatter(zeit_bp-zeit_rp, zeit_G, label='ZEIT')\n",
    "\n",
    "plt.plot(x, fit)\n",
    "\n",
    "plt.gca().invert_yaxis()\n",
    "plt.xlabel('$G_{BP} - G_{RP}$')\n",
    "plt.legend()\n",
    "plt.ylabel('$G$')\n",
    "plt.show()"
   ]
  },
  {
   "cell_type": "code",
   "execution_count": 167,
   "metadata": {},
   "outputs": [],
   "source": [
    "from astropy.table import Column"
   ]
  },
  {
   "cell_type": "code",
   "execution_count": 169,
   "metadata": {},
   "outputs": [],
   "source": [
    "gaia_dressing_kics = []\n",
    "for i in range(len(dressing)): \n",
    "    if dressing['M_'][i] < 0.6:\n",
    "        gaia_dressing_kics.append(dressing['KIC'][i])\n",
    "\n",
    "gaia_dressing.add_column(Column(gaia_dressing_kics, 'KIC'))"
   ]
  },
  {
   "cell_type": "code",
   "execution_count": 171,
   "metadata": {},
   "outputs": [],
   "source": [
    "gaia_dressing.write('data/gaia_dressing.csv')"
   ]
  },
  {
   "cell_type": "code",
   "execution_count": null,
   "metadata": {},
   "outputs": [],
   "source": []
  }
 ],
 "metadata": {
  "kernelspec": {
   "display_name": "Python 3",
   "language": "python",
   "name": "python3"
  },
  "language_info": {
   "codemirror_mode": {
    "name": "ipython",
    "version": 3
   },
   "file_extension": ".py",
   "mimetype": "text/x-python",
   "name": "python",
   "nbconvert_exporter": "python",
   "pygments_lexer": "ipython3",
   "version": "3.5.4"
  }
 },
 "nbformat": 4,
 "nbformat_minor": 2
}
