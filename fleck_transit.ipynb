{
 "cells": [
  {
   "cell_type": "code",
   "execution_count": 1,
   "metadata": {},
   "outputs": [],
   "source": [
    "%matplotlib inline\n",
    "import matplotlib.pyplot as plt\n",
    "import numpy as np\n",
    "import astropy.units as u\n",
    "from astropy.coordinates import CartesianRepresentation, UnitSphericalRepresentation\n",
    "from astropy.coordinates.matrix_utilities import rotation_matrix, matrix_product"
   ]
  },
  {
   "cell_type": "code",
   "execution_count": 609,
   "metadata": {},
   "outputs": [],
   "source": [
    "from rms import Star, Planet, STSP"
   ]
  },
  {
   "cell_type": "code",
   "execution_count": 2,
   "metadata": {},
   "outputs": [],
   "source": [
    "from scipy.integrate import quad \n",
    "\n",
    "def limb_darkening(u_ld, r):\n",
    "    u1, u2 = u_ld\n",
    "    mu = np.sqrt(1 - r**2)\n",
    "    return (1 - u1 * (1 - mu) - u2 * (1 - mu)**2) / (1 - u1/3 - u2/6) / np.pi\n",
    "\n",
    "def limb_darkening_normed(u_ld, r): \n",
    "    return limb_darkening(u_ld, r)/limb_darkening(u_ld, 0)\n",
    "\n",
    "def total_flux(u_ld): \n",
    "    return 2 * np.pi * quad(lambda r: r * limb_darkening_normed(u_ld, r), 0, 1)[0]\n",
    "\n",
    "spot_contrast = 0.7\n",
    "u_ld = [0.5079, 0.2239]\n",
    "f0 = total_flux(u_ld)"
   ]
  },
  {
   "cell_type": "code",
   "execution_count": 78,
   "metadata": {},
   "outputs": [],
   "source": [
    "n_rotations = 10000\n",
    "angles = np.arange(0, 2*np.pi, 2*np.pi/n_rotations) * u.rad"
   ]
  },
  {
   "cell_type": "code",
   "execution_count": 587,
   "metadata": {},
   "outputs": [],
   "source": [
    "n_incs = 1\n",
    "n_spots = 2\n",
    "\n",
    "inc_stellar = np.array([90]) * u.deg\n",
    "spot_radii = np.array([[0.2], [0.2]])\n",
    "spot_lats = np.array([[0], [0]]) * u.deg \n",
    "spot_lons = np.array([[150], [210]]) * u.deg"
   ]
  },
  {
   "cell_type": "markdown",
   "metadata": {},
   "source": [
    "$$ \\lambda ^ { e } ( p , z ) = \\left\\{ \\begin{array} { l l } { 0 , } & { 1 + p < z } \\\\ { \\frac { 1 } { \\pi } \\left[ p ^ { 2 } \\kappa _ { 0 } + \\kappa _ { 1 } - \\sqrt { \\frac { 4 z ^ { 2 } - \\left( 1 + z ^ { 2 } - p ^ { 2 } \\right) ^ { 2 } } { 4 } } \\right] , } & { | 1 - p | < z \\leq 1 + p } \\\\ { p ^ { 2 } , } & { z \\leq 1 - p } \\\\ { 1 , } & { z \\leq p - 1 } \\end{array} \\right. $$\n",
    "\n",
    "where\n",
    "\n",
    "$$ \\kappa _ { 1 } = \\cos ^ { - 1 } \\left[ \\left( 1 - p ^ { 2 } + z ^ { 2 } \\right) / 2 z \\right] , \\kappa _ { 0 } = \\cos ^ { - 1 } \\left[ \\left( p ^ { 2 } + z ^ { 2 } - 1 \\right) / 2 p z \\right] $$"
   ]
  },
  {
   "cell_type": "code",
   "execution_count": 603,
   "metadata": {},
   "outputs": [],
   "source": [
    "p = 0.1\n",
    "spot_contrast = 0.\n",
    "a_rs = 10\n",
    "d = np.linspace(-15, 15, n_rotations)\n",
    "z = np.abs(d)"
   ]
  },
  {
   "cell_type": "code",
   "execution_count": 604,
   "metadata": {},
   "outputs": [
    {
     "data": {
      "text/plain": [
       "(10000, 2, 1)"
      ]
     },
     "execution_count": 604,
     "metadata": {},
     "output_type": "execute_result"
    }
   ],
   "source": [
    "tilted_spot_positions.y.value.shape"
   ]
  },
  {
   "cell_type": "code",
   "execution_count": 605,
   "metadata": {},
   "outputs": [
    {
     "data": {
      "text/plain": [
       "(10000, 2, 1)"
      ]
     },
     "execution_count": 605,
     "metadata": {},
     "output_type": "execute_result"
    }
   ],
   "source": [
    "tilted_spot_positions.z.shape"
   ]
  },
  {
   "cell_type": "code",
   "execution_count": 606,
   "metadata": {},
   "outputs": [
    {
     "name": "stdout",
     "output_type": "stream",
     "text": [
      "[ 0.5]\n",
      "0.0 0.0025\n",
      "[ 0.5]\n",
      "0.0 0.0025\n"
     ]
    }
   ],
   "source": [
    "usr = UnitSphericalRepresentation(spot_lons, spot_lats) \n",
    "cartesian = usr.represent_as(CartesianRepresentation)\n",
    "rotate = rotation_matrix(angles[:, np.newaxis, np.newaxis], axis='z')\n",
    "tilt = rotation_matrix(inc_stellar - 90*u.deg, axis='y')\n",
    "rotated_spot_positions = cartesian.transform(rotate)\n",
    "tilted_spot_positions = rotated_spot_positions.transform(tilt)\n",
    "\n",
    "r = np.ma.masked_array(np.hypot(tilted_spot_positions.y.value, \n",
    "                                tilted_spot_positions.z.value), \n",
    "                       mask=tilted_spot_positions.x.value < 0)\n",
    "ld = limb_darkening_normed(u_ld, r)\n",
    "\n",
    "def occult(z, p): \n",
    "    lambda_e = np.zeros_like(z)\n",
    "    ingress_egress = (np.abs(1-p) < z) & (z <= 1 + p)\n",
    "    bottom = (z <= 1 - p)\n",
    "    full = (z <= p - 1)\n",
    "    kappa_0 = np.arccos((p**2 + z[ingress_egress]**2 - 1) / \n",
    "                        (2*p*z[ingress_egress]))\n",
    "    kappa_1 = np.arccos((1 - p**2 + z[ingress_egress]**2) / \n",
    "                        (2*z[ingress_egress]))\n",
    "    lambda_e[ingress_egress] = (p**2 * kappa_0 + kappa_1 - \n",
    "                                np.sqrt((4*z[ingress_egress]**2 - \n",
    "                                        (1+z[ingress_egress]**2-p**2)**2)/4))/np.pi\n",
    "    lambda_e[bottom] = p**2\n",
    "    lambda_e[full] = 1\n",
    "#     plt.plot(lambda_e)\n",
    "#     plt.show()\n",
    "    return lambda_e\n",
    "\n",
    "lambda_e = occult(z, p)\n",
    "\n",
    "spots = []\n",
    "for i in range(n_spots):\n",
    "    forshortened_spot_radius = spot_radii[i, :]*np.sqrt(1 - r[:, i, 0]**2)\n",
    "    r_spot = np.ma.masked_array(np.hypot(tilted_spot_positions.y.value[:, i, 0] - d, \n",
    "                                         tilted_spot_positions.z.value[:, i, 0]), \n",
    "                                mask=tilted_spot_positions.x.value[:, i, 0] < 0) / forshortened_spot_radius\n",
    "    print(np.min([p/spot_radii[i, :], 1]))\n",
    "    lambda_e_spot = (1 - spot_contrast) * p**2 * occult(r_spot, \n",
    "                                                        p=np.min([p/spot_radii[i, :], 1]))\n",
    "    print(lambda_e_spot.min(), lambda_e_spot.max())\n",
    "    spots.append(lambda_e_spot.filled(0))\n",
    "\n",
    "lambda_e -= np.max(spots, axis=0)\n",
    "\n",
    "f_spots = np.pi * spot_radii**2 * (1 - spot_contrast) * ld * np.sqrt(1 - r**2)\n",
    "\n",
    "delta_f = (1 - np.sum(f_spots.filled(0)/f0, axis=1)[:, 0] - lambda_e)"
   ]
  },
  {
   "cell_type": "code",
   "execution_count": 607,
   "metadata": {},
   "outputs": [
    {
     "data": {
      "image/png": "[encoded data removed]",
      "text/plain": [
       "<Figure size 432x288 with 1 Axes>"
      ]
     },
     "metadata": {},
     "output_type": "display_data"
    }
   ],
   "source": [
    "plt.plot(spots[0]);\n",
    "plt.plot(spots[1]);"
   ]
  },
  {
   "cell_type": "code",
   "execution_count": 608,
   "metadata": {},
   "outputs": [
    {
     "data": {
      "image/png": "[encoded data removed]",
      "text/plain": [
       "<Figure size 1008x288 with 1 Axes>"
      ]
     },
     "metadata": {},
     "output_type": "display_data"
    }
   ],
   "source": [
    "plt.figure(figsize=(14, 4))\n",
    "plt.plot(delta_f);\n",
    "# plt.axhline(1 - p**2, ls='--')\n",
    "# plt.xlim([4500, 5500])"
   ]
  },
  {
   "cell_type": "code",
   "execution_count": null,
   "metadata": {},
   "outputs": [],
   "source": []
  },
  {
   "cell_type": "code",
   "execution_count": null,
   "metadata": {},
   "outputs": [],
   "source": []
  }
 ],
 "metadata": {
  "kernelspec": {
   "display_name": "Python 3",
   "language": "python",
   "name": "python3"
  },
  "language_info": {
   "codemirror_mode": {
    "name": "ipython",
    "version": 3
   },
   "file_extension": ".py",
   "mimetype": "text/x-python",
   "name": "python",
   "nbconvert_exporter": "python",
   "pygments_lexer": "ipython3",
   "version": "3.5.4"
  }
 },
 "nbformat": 4,
 "nbformat_minor": 2
}
