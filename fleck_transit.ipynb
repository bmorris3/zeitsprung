{
 "cells": [
  {
   "cell_type": "code",
   "execution_count": 1,
   "metadata": {},
   "outputs": [],
   "source": [
    "%matplotlib inline\n",
    "import matplotlib.pyplot as plt\n",
    "import numpy as np\n",
    "import astropy.units as u\n",
    "from astropy.coordinates import CartesianRepresentation, UnitSphericalRepresentation\n",
    "from astropy.coordinates.matrix_utilities import rotation_matrix, matrix_product"
   ]
  },
  {
   "cell_type": "code",
   "execution_count": 610,
   "metadata": {},
   "outputs": [],
   "source": [
    "from rms import Star, Planet, STSP, Spot"
   ]
  },
  {
   "cell_type": "code",
   "execution_count": 1416,
   "metadata": {},
   "outputs": [],
   "source": [
    "from scipy.integrate import quad \n",
    "\n",
    "def limb_darkening(u_ld, r):\n",
    "    u1, u2 = u_ld\n",
    "    mu = np.sqrt(1 - r**2)\n",
    "    return (1 - u1 * (1 - mu) - u2 * (1 - mu)**2) / (1 - u1/3 - u2/6) / np.pi\n",
    "\n",
    "def limb_darkening_normed(u_ld, r): \n",
    "    return limb_darkening(u_ld, r)/limb_darkening(u_ld, 0)\n",
    "\n",
    "def total_flux(u_ld): \n",
    "    return 2 * np.pi * quad(lambda r: r * limb_darkening_normed(u_ld, r), 0, 1)[0]\n",
    "\n",
    "spot_contrast = 0.7\n",
    "u_ld = [0.5079, 0.2239]\n",
    "f0 = total_flux(u_ld)"
   ]
  },
  {
   "cell_type": "code",
   "execution_count": 1756,
   "metadata": {},
   "outputs": [],
   "source": [
    "n_rotations = 1000\n",
    "# angles = np.ones(n_rotations) * 180*u.deg\n",
    "#angles = np.arange(0, 2*np.pi, 2*np.pi/n_rotations) * u.rad\n",
    "angles = np.linspace(np.pi - 0.01, np.pi + 0.01, n_rotations) * u.rad"
   ]
  },
  {
   "cell_type": "code",
   "execution_count": 1775,
   "metadata": {},
   "outputs": [],
   "source": [
    "n_incs = 1\n",
    "n_spots = 2\n",
    "\n",
    "p = 0.05\n",
    "spot_contrast = 0.7\n",
    "b = 0\n",
    "a_rs = 15\n",
    "\n",
    "inc_stellar = np.array([90]) * u.deg\n",
    "spot_radii = np.array([[0.1], [0.1]])\n",
    "spot_lats = np.array([[0], [0]]) * u.deg \n",
    "# spot_lons = np.array([[150], [210]]) * u.deg\n",
    "spot_lons = np.array([[150], [210]]) * u.deg\n",
    "\n",
    "#d = np.linspace(-15, 15, n_rotations)\n",
    "d = np.linspace(-a_rs, a_rs, n_rotations)\n",
    "z = np.abs(d)"
   ]
  },
  {
   "cell_type": "markdown",
   "metadata": {},
   "source": [
    "***"
   ]
  },
  {
   "cell_type": "code",
   "execution_count": 1776,
   "metadata": {},
   "outputs": [
    {
     "data": {
      "text/plain": [
       "[<matplotlib.lines.Line2D at 0x11f2bc668>]"
      ]
     },
     "execution_count": 1776,
     "metadata": {},
     "output_type": "execute_result"
    },
    {
     "data": {
      "image/png": "[encoded data removed]",
      "text/plain": [
       "<Figure size 1152x216 with 1 Axes>"
      ]
     },
     "metadata": {},
     "output_type": "display_data"
    }
   ],
   "source": [
    "from astropy.time import Time\n",
    "\n",
    "times = Time(np.linspace(0, 2*np.pi, n_rotations), format='jd')\n",
    "planet = Planet(per=2*np.pi, inc=90, a=a_rs, t0=np.pi, rp=p, ecc=0, w=90, lam=0, b=0)\n",
    "star = Star(planet, rotation_period=1000, inc_stellar=90, spot_contrast=spot_contrast, u=u_ld, rho_s=0.038)\n",
    "stsp_spots = [Spot(spot_lats[0, 0], spot_lons[0, 0] + 180 * u.deg, spot_radii[0, 0]), \n",
    "              Spot(spot_lats[1, 0], spot_lons[1, 0] - 180 * u.deg , spot_radii[1, 0])]\n",
    "\n",
    "with STSP(times, star, stsp_spots) as s: \n",
    "    lc = s.generate_lightcurve(n_ld_rings=100)\n",
    "    \n",
    "fig, ax = plt.subplots(figsize=(16, 3))\n",
    "plt.plot(lc.times.jd, lc.fluxes)"
   ]
  },
  {
   "cell_type": "markdown",
   "metadata": {},
   "source": [
    "***"
   ]
  },
  {
   "cell_type": "markdown",
   "metadata": {},
   "source": [
    "$$ \\lambda ^ { e } ( p , z ) = \\left\\{ \\begin{array} { l l } { 0 , } & { 1 + p < z } \\\\ { \\frac { 1 } { \\pi } \\left[ p ^ { 2 } \\kappa _ { 0 } + \\kappa _ { 1 } - \\sqrt { \\frac { 4 z ^ { 2 } - \\left( 1 + z ^ { 2 } - p ^ { 2 } \\right) ^ { 2 } } { 4 } } \\right] , } & { | 1 - p | < z \\leq 1 + p } \\\\ { p ^ { 2 } , } & { z \\leq 1 - p } \\\\ { 1 , } & { z \\leq p - 1 } \\end{array} \\right. $$\n",
    "\n",
    "where\n",
    "\n",
    "$$ \\kappa _ { 0 } = \\cos ^ { - 1 } \\left[ \\left( p ^ { 2 } + z ^ { 2 } - 1 \\right) / 2 p z \\right], \\kappa _ { 1 } = \\cos ^ { - 1 } \\left[ \\left( 1 - p ^ { 2 } + z ^ { 2 } \\right) / 2 z \\right]  $$"
   ]
  },
  {
   "cell_type": "markdown",
   "metadata": {},
   "source": [
    "$$    \\lambda^e_{\\rm max} = \\left(\\frac{R_p}{R_\\star}\\right)^2 \\frac{1-u_1(1-\\sqrt{1-b^2})-u_2 (1-\\sqrt{1-b^2})^2}{1-\\tfrac{u_1}{3}-\\tfrac{u_2}{6}},$$"
   ]
  },
  {
   "cell_type": "code",
   "execution_count": 1777,
   "metadata": {},
   "outputs": [],
   "source": [
    "from shapely.geometry.point import Point\n",
    "from shapely import affinity\n",
    "from matplotlib.patches import Polygon\n",
    "import numpy as np\n",
    "\n",
    "def create_ellipse(center, lengths, angle=0):\n",
    "    \"\"\"\n",
    "    create a shapely ellipse\n",
    "    \"\"\"\n",
    "    ellr = affinity.rotate(affinity.scale(Point(center).buffer(1), lengths[0], lengths[1]), angle)\n",
    "    return ellr"
   ]
  },
  {
   "cell_type": "code",
   "execution_count": 1778,
   "metadata": {},
   "outputs": [
    {
     "name": "stdout",
     "output_type": "stream",
     "text": [
      "0.500008668898 0.866020398736\n",
      "0.499991331052 0.866030408746\n"
     ]
    },
    {
     "data": {
      "image/png": "[encoded data removed]",
      "text/plain": [
       "<Figure size 288x288 with 1 Axes>"
      ]
     },
     "metadata": {},
     "output_type": "display_data"
    }
   ],
   "source": [
    "from matplotlib.collections import PatchCollection\n",
    "\n",
    "usr = UnitSphericalRepresentation(spot_lons, spot_lats) \n",
    "cartesian = usr.represent_as(CartesianRepresentation)\n",
    "rotate = rotation_matrix(angles[:, np.newaxis, np.newaxis], axis='z')\n",
    "tilt = rotation_matrix(inc_stellar - 90*u.deg, axis='y')\n",
    "rotated_spot_positions = cartesian.transform(rotate)\n",
    "tilted_spot_positions = rotated_spot_positions.transform(tilt)\n",
    "\n",
    "r = np.ma.masked_array(np.hypot(tilted_spot_positions.y.value, \n",
    "                                tilted_spot_positions.z.value), \n",
    "                       mask=tilted_spot_positions.x.value < 0)\n",
    "ld = limb_darkening_normed(u_ld, r)\n",
    "\n",
    "def occult(z, p): \n",
    "    lambda_e = np.zeros_like(z)\n",
    "    ingress_egress = (np.abs(1-p) < z) & (z <= 1 + p)\n",
    "    bottom = (z <= 1 - p)\n",
    "    full = (z <= p - 1)\n",
    "    kappa_0 = np.arccos((p**2 + z[ingress_egress]**2 - 1) / \n",
    "                        (2*p*z[ingress_egress]))\n",
    "    kappa_1 = np.arccos((1 - p**2 + z[ingress_egress]**2) / \n",
    "                        (2*z[ingress_egress]))\n",
    "    lambda_e[ingress_egress] = (p**2 * kappa_0 + kappa_1 - \n",
    "                                np.sqrt((4*z[ingress_egress]**2 - \n",
    "                                        (1+z[ingress_egress]**2-p**2)**2)/4))/np.pi\n",
    "    lambda_e[bottom] = p**2\n",
    "    lambda_e[full] = 1\n",
    "\n",
    "    return lambda_e\n",
    "\n",
    "mu = np.zeros_like(z)\n",
    "mu[z <= 1] = np.sqrt(1 - z[z <= 1]**2)\n",
    "ld_factor = (1 - u_ld[0] * (1 - mu) - u_ld[1] * (1 - mu)**2 ) / (1 - u_ld[0]/3 - u_ld[1]/6)\n",
    "lambda_e = occult(z, p) * ld_factor\n",
    "\n",
    "spots = []\n",
    "spot_ld_factors = []\n",
    "plot_ellipses = True\n",
    "\n",
    "if plot_ellipses: \n",
    "    fig, ax = plt.subplots(figsize=(4,4))\n",
    "\n",
    "mid_transit_time = int(n_rotations/2)\n",
    "ax.set(xlim=[-1, 1], ylim=[-1, 1])\n",
    "planet = [create_ellipse([d[i], 0], [p, p]) for i in range(len(d))]\n",
    "\n",
    "for i in range(n_spots):\n",
    "    if tilted_spot_positions.x.value[mid_transit_time, i, 0] > 0:\n",
    "\n",
    "        r_spot = np.hypot(tilted_spot_positions.z.value[mid_transit_time, i, 0],\n",
    "                          tilted_spot_positions.y.value[mid_transit_time, i, 0])\n",
    "        print(r_spot, np.sqrt(1 - r_spot**2))\n",
    "        angle = np.arctan2(tilted_spot_positions.z.value[mid_transit_time, i, 0], \n",
    "                           tilted_spot_positions.y.value[mid_transit_time, i, 0])\n",
    "\n",
    "        ellipse = create_ellipse([tilted_spot_positions.y.value[mid_transit_time, i, 0], \n",
    "                                  tilted_spot_positions.z.value[mid_transit_time, i, 0]], \n",
    "                                 [spot_radii[i, 0]*np.sqrt(1 - r_spot**2), spot_radii[i, 0]], \n",
    "                                 np.degrees(angle))\n",
    "        spots.append(ellipse)\n",
    "        spot_ld_factors.append(limb_darkening_normed(u_ld, r_spot))\n",
    "        \n",
    "        if plot_ellipses:\n",
    "            x, y = ellipse.exterior.coords.xy\n",
    "            ax.fill(x, y)\n",
    "\n",
    "intersections = np.sum([[(1 - spot_contrast) / spot_ld_factors[j] * planet[i].intersection(spots[j]).area / np.pi\n",
    "                         for i in range(len(planet))] \n",
    "                        for j in range(len(spots))], axis=0)\n",
    "lambda_e -=  intersections\n",
    "\n",
    "f_spots = np.pi * spot_radii**2 * (1 - spot_contrast) * ld * np.sqrt(1 - r**2)\n",
    "\n",
    "delta_f = (1 - np.sum(f_spots.filled(0)/f0, axis=1)[:, 0] - lambda_e)"
   ]
  },
  {
   "cell_type": "code",
   "execution_count": 1779,
   "metadata": {},
   "outputs": [
    {
     "data": {
      "text/plain": [
       "(2.5, 3.8)"
      ]
     },
     "execution_count": 1779,
     "metadata": {},
     "output_type": "execute_result"
    },
    {
     "data": {
      "image/png": "[encoded data removed]",
      "text/plain": [
       "<Figure size 1152x360 with 1 Axes>"
      ]
     },
     "metadata": {},
     "output_type": "display_data"
    }
   ],
   "source": [
    "plt.figure(figsize=(16, 5))\n",
    "plt.plot(lc.times.jd, lc.fluxes/lc.fluxes.max(), '.-')\n",
    "plt.plot(lc.times.jd, delta_f/delta_f.max(), '.-')\n",
    "#3 plt.axhline(1 - p**2, ls='--')\n",
    "# plt.xlim([4500, 5500])\n",
    "# plt.ylim([0.972, 0.978])\n",
    "plt.xlim([2.5, 3.8])\n",
    "# plt.ylim([0.99, 0.998])\n",
    "# plt.ylim([0.98, 0.9925])"
   ]
  },
  {
   "cell_type": "code",
   "execution_count": null,
   "metadata": {},
   "outputs": [],
   "source": []
  },
  {
   "cell_type": "code",
   "execution_count": 1450,
   "metadata": {},
   "outputs": [
    {
     "name": "stdout",
     "output_type": "stream",
     "text": [
      "area of intersect: 13.656608779925698\n"
     ]
    }
   ],
   "source": [
    "\n",
    "\n",
    "ellipse1 = create_ellipse((0,0),(2,4),10)\n",
    "ellipse2 = create_ellipse((1,-1),(3,2),50)\n",
    "\n",
    "intersect = ellipse1.intersection(ellipse2)\n",
    "\n",
    "print('area of intersect:',intersect.area)\n",
    "\n",
    "plt.show()"
   ]
  },
  {
   "cell_type": "code",
   "execution_count": 1449,
   "metadata": {},
   "outputs": [
    {
     "name": "stdout",
     "output_type": "stream",
     "text": [
      "234 µs ± 11.4 µs per loop (mean ± std. dev. of 7 runs, 1000 loops each)\n"
     ]
    }
   ],
   "source": [
    "%timeit ellipse1.intersection(ellipse2)"
   ]
  },
  {
   "cell_type": "code",
   "execution_count": null,
   "metadata": {},
   "outputs": [],
   "source": []
  }
 ],
 "metadata": {
  "kernelspec": {
   "display_name": "Python 3",
   "language": "python",
   "name": "python3"
  },
  "language_info": {
   "codemirror_mode": {
    "name": "ipython",
    "version": 3
   },
   "file_extension": ".py",
   "mimetype": "text/x-python",
   "name": "python",
   "nbconvert_exporter": "python",
   "pygments_lexer": "ipython3",
   "version": "3.5.4"
  }
 },
 "nbformat": 4,
 "nbformat_minor": 2
}
